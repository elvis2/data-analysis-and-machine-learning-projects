{
 "cells": [
  {
   "cell_type": "markdown",
   "metadata": {},
   "source": [
    "# Project: Investigate a Dataset - No Show Appointments\n",
    "\n",
    "## Table of Contents\n",
    "<ul>\n",
    "<li><a href=\"#intro\">Introduction</a></li>\n",
    "<li><a href=\"#wrangling\">Data Wrangling</a></li>\n",
    "<li><a href=\"#eda\">Exploratory Data Analysis</a></li>\n",
    "<li><a href=\"#limitations\">Limitations</a></li>\n",
    "<li><a href=\"#conclusions\">Conclusions</a></li>\n",
    "</ul>"
   ]
  },
  {
   "cell_type": "markdown",
   "metadata": {},
   "source": [
    "<a id='intro'></a>\n",
    "## Introduction\n",
    "\n",
    "This project analyzes traits of missed scheduled medical appointments, based off a dataset of more than 100,000 appointments, provided by Joni Hopper via kaggle.com.\n",
    "\n",
    "The dataset and author's details can be found here: https://www.kaggle.com/joniarroba/noshowappointments/home\n",
    "\n",
    "### Dataset Columns Definitions\n",
    "\n",
    "<table style=\"display: block; width: 100%;\" cellspacing=\"5\" cellpadding=\"5\">\n",
    "    <tbody>\n",
    "      <tr>\n",
    "        <th style=\"text-align: left; width: 10%;\">Name</th>\n",
    "        <th style=\"text-align: center; width: 10%;\">Data Type</th>\n",
    "        <th style=\"text-align: left; width: 70%;\">Brief Description</th>\n",
    "      </tr>\n",
    "      <tr>\n",
    "        <td style=\"text-align: left; width: 10%;\">PatienID</td>\n",
    "        <td style=\"text-align: center; width: 10%;\">float</td>\n",
    "        <td style=\"text-align: left; width: 70%;\">Patient unique identifier</td>\n",
    "      </tr>\n",
    "      <tr>\n",
    "        <td style=\"text-align: left; width: 10%;\">AppointmentID</td>\n",
    "        <td style=\"text-align: center; width: 10%;\">int</td>\n",
    "        <td style=\"text-align: left; width: 70%;\">Appointment unique identifier</td>\n",
    "      </tr>\n",
    "      <tr>\n",
    "        <td style=\"text-align: left; width: 10%;\">Gender</td>\n",
    "        <td style=\"text-align: center; width: 10%;\">string</td>\n",
    "        <td style=\"text-align: left; width: 70%;\">'F' for female or 'M' for male</td>\n",
    "      </tr>\n",
    "      <tr>\n",
    "        <td style=\"text-align: left; width: 10%;\">ScheduledDay</td>\n",
    "        <td style=\"text-align: center; width: 10%;\">string</td>\n",
    "        <td style=\"text-align: left; width: 70%;\">Date the caller called, to schedule the appointment</td>\n",
    "      </tr>\n",
    "      <tr>\n",
    "        <td style=\"text-align: left; width: 10%;\">AppointmentDay</td>\n",
    "        <td style=\"text-align: center; width: 10%;\">string</td>\n",
    "        <td style=\"text-align: left; width: 70%;\">Date scheduled for the appointment</td>\n",
    "      </tr>\n",
    "      <tr>\n",
    "        <td style=\"text-align: left; width: 10%;\">Age</td>\n",
    "        <td style=\"text-align: center; width: 10%;\">int</td>\n",
    "        <td style=\"text-align: left; width: 70%;\">Age of Patient</td>\n",
    "      </tr>\n",
    "      <tr>\n",
    "        <td style=\"text-align: left; width: 10%;\">Neighbourhood</td>\n",
    "        <td style=\"text-align: center; width: 10%;\">string</td>\n",
    "        <td style=\"text-align: left; width: 70%;\">The location where the appointment takes place</td>\n",
    "      </tr>\n",
    "      <tr>\n",
    "        <td style=\"text-align: left; width: 10%;\">Scholarship</td>\n",
    "        <td style=\"text-align: center; width: 10%;\">int</td>\n",
    "        <td style=\"text-align: left; width: 70%;\">Patient enrolled in the Brazilian welfare program, Bolsa Família</td>\n",
    "      </tr>\n",
    "      <tr>\n",
    "        <td style=\"text-align: left; width: 10%;\">Hipertension</td>\n",
    "        <td style=\"text-align: center; width: 10%;\">int</td>\n",
    "        <td style=\"text-align: left; width: 70%;\">Patient has hypertension</td>\n",
    "      </tr>\n",
    "      <tr>\n",
    "        <td style=\"text-align: left; width: 10%;\">Diabetes</td>\n",
    "        <td style=\"text-align: center; width: 10%;\">int</td>\n",
    "        <td style=\"text-align: left; width: 70%;\">Patient has diabetes</td>\n",
    "      </tr>\n",
    "      <tr>\n",
    "        <td style=\"text-align: left; width: 10%;\">Alcoholism</td>\n",
    "        <td style=\"text-align: center; width: 10%;\">int</td>\n",
    "        <td style=\"text-align: left; width: 70%;\">Patient is an alcoholic</td>\n",
    "      </tr>\n",
    "      <tr>\n",
    "        <td style=\"text-align: left; width: 10%;\">Handcap</td>\n",
    "        <td style=\"text-align: center; width: 10%;\">int</td>\n",
    "        <td style=\"text-align: left; width: 70%;\">Patient is handicapped</td>\n",
    "      </tr>\n",
    "      <tr>\n",
    "        <td style=\"text-align: left; width: 10%;\">SMS_received</td>\n",
    "        <td style=\"text-align: center; width: 10%;\">int</td>\n",
    "        <td style=\"text-align: left; width: 70%;\">Patient received at least 1 SMS</td>\n",
    "      </tr>\n",
    "      <tr>\n",
    "        <td style=\"text-align: left; width: 10%;\">No-show</td>\n",
    "        <td style=\"text-align: center; width: 10%;\">string</td>\n",
    "        <td style=\"text-align: left; width: 70%;\">'Yes' or 'No'. Patient checked-in for the appointment</td>\n",
    "      </tr>\n",
    "    </tbody>\n",
    "  </table>"
   ]
  },
  {
   "cell_type": "markdown",
   "metadata": {},
   "source": [
    "<a id='wrangling'></a>\n",
    "## Data Wrangling"
   ]
  },
  {
   "cell_type": "markdown",
   "metadata": {},
   "source": [
    "### Imports"
   ]
  },
  {
   "cell_type": "code",
   "execution_count": 119,
   "metadata": {},
   "outputs": [],
   "source": [
    "import numpy as np\n",
    "import pandas as pd\n",
    "import matplotlib.pyplot as plt\n",
    "import seaborn as sns\n",
    "import datetime as dt\n",
    "\n",
    "%matplotlib inline"
   ]
  },
  {
   "cell_type": "markdown",
   "metadata": {},
   "source": [
    "### General Properties\n",
    "\n",
    "Load the data, perform operations to inspect data types and look for instances of missing or possibly errant data."
   ]
  },
  {
   "cell_type": "code",
   "execution_count": 120,
   "metadata": {},
   "outputs": [],
   "source": [
    "# Load the dataset into a dataframe.\n",
    "df = pd.read_csv('noshowappointments-kagglev2-may-2016.csv')"
   ]
  },
  {
   "cell_type": "code",
   "execution_count": 121,
   "metadata": {},
   "outputs": [
    {
     "data": {
      "text/html": [
       "<div>\n",
       "<style scoped>\n",
       "    .dataframe tbody tr th:only-of-type {\n",
       "        vertical-align: middle;\n",
       "    }\n",
       "\n",
       "    .dataframe tbody tr th {\n",
       "        vertical-align: top;\n",
       "    }\n",
       "\n",
       "    .dataframe thead th {\n",
       "        text-align: right;\n",
       "    }\n",
       "</style>\n",
       "<table border=\"1\" class=\"dataframe\">\n",
       "  <thead>\n",
       "    <tr style=\"text-align: right;\">\n",
       "      <th></th>\n",
       "      <th>PatientId</th>\n",
       "      <th>AppointmentID</th>\n",
       "      <th>Gender</th>\n",
       "      <th>ScheduledDay</th>\n",
       "      <th>AppointmentDay</th>\n",
       "      <th>Age</th>\n",
       "      <th>Neighbourhood</th>\n",
       "      <th>Scholarship</th>\n",
       "      <th>Hipertension</th>\n",
       "      <th>Diabetes</th>\n",
       "      <th>Alcoholism</th>\n",
       "      <th>Handcap</th>\n",
       "      <th>SMS_received</th>\n",
       "      <th>No-show</th>\n",
       "    </tr>\n",
       "  </thead>\n",
       "  <tbody>\n",
       "    <tr>\n",
       "      <th>0</th>\n",
       "      <td>2.987250e+13</td>\n",
       "      <td>5642903</td>\n",
       "      <td>F</td>\n",
       "      <td>2016-04-29T18:38:08Z</td>\n",
       "      <td>2016-04-29T00:00:00Z</td>\n",
       "      <td>62</td>\n",
       "      <td>JARDIM DA PENHA</td>\n",
       "      <td>0</td>\n",
       "      <td>1</td>\n",
       "      <td>0</td>\n",
       "      <td>0</td>\n",
       "      <td>0</td>\n",
       "      <td>0</td>\n",
       "      <td>No</td>\n",
       "    </tr>\n",
       "    <tr>\n",
       "      <th>1</th>\n",
       "      <td>5.589978e+14</td>\n",
       "      <td>5642503</td>\n",
       "      <td>M</td>\n",
       "      <td>2016-04-29T16:08:27Z</td>\n",
       "      <td>2016-04-29T00:00:00Z</td>\n",
       "      <td>56</td>\n",
       "      <td>JARDIM DA PENHA</td>\n",
       "      <td>0</td>\n",
       "      <td>0</td>\n",
       "      <td>0</td>\n",
       "      <td>0</td>\n",
       "      <td>0</td>\n",
       "      <td>0</td>\n",
       "      <td>No</td>\n",
       "    </tr>\n",
       "    <tr>\n",
       "      <th>2</th>\n",
       "      <td>4.262962e+12</td>\n",
       "      <td>5642549</td>\n",
       "      <td>F</td>\n",
       "      <td>2016-04-29T16:19:04Z</td>\n",
       "      <td>2016-04-29T00:00:00Z</td>\n",
       "      <td>62</td>\n",
       "      <td>MATA DA PRAIA</td>\n",
       "      <td>0</td>\n",
       "      <td>0</td>\n",
       "      <td>0</td>\n",
       "      <td>0</td>\n",
       "      <td>0</td>\n",
       "      <td>0</td>\n",
       "      <td>No</td>\n",
       "    </tr>\n",
       "    <tr>\n",
       "      <th>3</th>\n",
       "      <td>8.679512e+11</td>\n",
       "      <td>5642828</td>\n",
       "      <td>F</td>\n",
       "      <td>2016-04-29T17:29:31Z</td>\n",
       "      <td>2016-04-29T00:00:00Z</td>\n",
       "      <td>8</td>\n",
       "      <td>PONTAL DE CAMBURI</td>\n",
       "      <td>0</td>\n",
       "      <td>0</td>\n",
       "      <td>0</td>\n",
       "      <td>0</td>\n",
       "      <td>0</td>\n",
       "      <td>0</td>\n",
       "      <td>No</td>\n",
       "    </tr>\n",
       "    <tr>\n",
       "      <th>4</th>\n",
       "      <td>8.841186e+12</td>\n",
       "      <td>5642494</td>\n",
       "      <td>F</td>\n",
       "      <td>2016-04-29T16:07:23Z</td>\n",
       "      <td>2016-04-29T00:00:00Z</td>\n",
       "      <td>56</td>\n",
       "      <td>JARDIM DA PENHA</td>\n",
       "      <td>0</td>\n",
       "      <td>1</td>\n",
       "      <td>1</td>\n",
       "      <td>0</td>\n",
       "      <td>0</td>\n",
       "      <td>0</td>\n",
       "      <td>No</td>\n",
       "    </tr>\n",
       "  </tbody>\n",
       "</table>\n",
       "</div>"
      ],
      "text/plain": [
       "      PatientId  AppointmentID Gender          ScheduledDay  \\\n",
       "0  2.987250e+13        5642903      F  2016-04-29T18:38:08Z   \n",
       "1  5.589978e+14        5642503      M  2016-04-29T16:08:27Z   \n",
       "2  4.262962e+12        5642549      F  2016-04-29T16:19:04Z   \n",
       "3  8.679512e+11        5642828      F  2016-04-29T17:29:31Z   \n",
       "4  8.841186e+12        5642494      F  2016-04-29T16:07:23Z   \n",
       "\n",
       "         AppointmentDay  Age      Neighbourhood  Scholarship  Hipertension  \\\n",
       "0  2016-04-29T00:00:00Z   62    JARDIM DA PENHA            0             1   \n",
       "1  2016-04-29T00:00:00Z   56    JARDIM DA PENHA            0             0   \n",
       "2  2016-04-29T00:00:00Z   62      MATA DA PRAIA            0             0   \n",
       "3  2016-04-29T00:00:00Z    8  PONTAL DE CAMBURI            0             0   \n",
       "4  2016-04-29T00:00:00Z   56    JARDIM DA PENHA            0             1   \n",
       "\n",
       "   Diabetes  Alcoholism  Handcap  SMS_received No-show  \n",
       "0         0           0        0             0      No  \n",
       "1         0           0        0             0      No  \n",
       "2         0           0        0             0      No  \n",
       "3         0           0        0             0      No  \n",
       "4         1           0        0             0      No  "
      ]
     },
     "execution_count": 121,
     "metadata": {},
     "output_type": "execute_result"
    }
   ],
   "source": [
    "# Evaluate the headers and few lines of the data.\n",
    "df.head()"
   ]
  },
  {
   "cell_type": "code",
   "execution_count": 122,
   "metadata": {},
   "outputs": [
    {
     "data": {
      "text/plain": [
       "(110527, 14)"
      ]
     },
     "execution_count": 122,
     "metadata": {},
     "output_type": "execute_result"
    }
   ],
   "source": [
    "# Get the shape of the dataset.\n",
    "df.shape"
   ]
  },
  {
   "cell_type": "code",
   "execution_count": 123,
   "metadata": {},
   "outputs": [
    {
     "data": {
      "text/html": [
       "<div>\n",
       "<style scoped>\n",
       "    .dataframe tbody tr th:only-of-type {\n",
       "        vertical-align: middle;\n",
       "    }\n",
       "\n",
       "    .dataframe tbody tr th {\n",
       "        vertical-align: top;\n",
       "    }\n",
       "\n",
       "    .dataframe thead th {\n",
       "        text-align: right;\n",
       "    }\n",
       "</style>\n",
       "<table border=\"1\" class=\"dataframe\">\n",
       "  <thead>\n",
       "    <tr style=\"text-align: right;\">\n",
       "      <th></th>\n",
       "      <th>PatientId</th>\n",
       "      <th>AppointmentID</th>\n",
       "      <th>Age</th>\n",
       "      <th>Scholarship</th>\n",
       "      <th>Hipertension</th>\n",
       "      <th>Diabetes</th>\n",
       "      <th>Alcoholism</th>\n",
       "      <th>Handcap</th>\n",
       "      <th>SMS_received</th>\n",
       "    </tr>\n",
       "  </thead>\n",
       "  <tbody>\n",
       "    <tr>\n",
       "      <th>count</th>\n",
       "      <td>1.105270e+05</td>\n",
       "      <td>1.105270e+05</td>\n",
       "      <td>110527.000000</td>\n",
       "      <td>110527.000000</td>\n",
       "      <td>110527.000000</td>\n",
       "      <td>110527.000000</td>\n",
       "      <td>110527.000000</td>\n",
       "      <td>110527.000000</td>\n",
       "      <td>110527.000000</td>\n",
       "    </tr>\n",
       "    <tr>\n",
       "      <th>mean</th>\n",
       "      <td>1.474963e+14</td>\n",
       "      <td>5.675305e+06</td>\n",
       "      <td>37.088874</td>\n",
       "      <td>0.098266</td>\n",
       "      <td>0.197246</td>\n",
       "      <td>0.071865</td>\n",
       "      <td>0.030400</td>\n",
       "      <td>0.022248</td>\n",
       "      <td>0.321026</td>\n",
       "    </tr>\n",
       "    <tr>\n",
       "      <th>std</th>\n",
       "      <td>2.560949e+14</td>\n",
       "      <td>7.129575e+04</td>\n",
       "      <td>23.110205</td>\n",
       "      <td>0.297675</td>\n",
       "      <td>0.397921</td>\n",
       "      <td>0.258265</td>\n",
       "      <td>0.171686</td>\n",
       "      <td>0.161543</td>\n",
       "      <td>0.466873</td>\n",
       "    </tr>\n",
       "    <tr>\n",
       "      <th>min</th>\n",
       "      <td>3.921784e+04</td>\n",
       "      <td>5.030230e+06</td>\n",
       "      <td>-1.000000</td>\n",
       "      <td>0.000000</td>\n",
       "      <td>0.000000</td>\n",
       "      <td>0.000000</td>\n",
       "      <td>0.000000</td>\n",
       "      <td>0.000000</td>\n",
       "      <td>0.000000</td>\n",
       "    </tr>\n",
       "    <tr>\n",
       "      <th>25%</th>\n",
       "      <td>4.172614e+12</td>\n",
       "      <td>5.640286e+06</td>\n",
       "      <td>18.000000</td>\n",
       "      <td>0.000000</td>\n",
       "      <td>0.000000</td>\n",
       "      <td>0.000000</td>\n",
       "      <td>0.000000</td>\n",
       "      <td>0.000000</td>\n",
       "      <td>0.000000</td>\n",
       "    </tr>\n",
       "    <tr>\n",
       "      <th>50%</th>\n",
       "      <td>3.173184e+13</td>\n",
       "      <td>5.680573e+06</td>\n",
       "      <td>37.000000</td>\n",
       "      <td>0.000000</td>\n",
       "      <td>0.000000</td>\n",
       "      <td>0.000000</td>\n",
       "      <td>0.000000</td>\n",
       "      <td>0.000000</td>\n",
       "      <td>0.000000</td>\n",
       "    </tr>\n",
       "    <tr>\n",
       "      <th>75%</th>\n",
       "      <td>9.439172e+13</td>\n",
       "      <td>5.725524e+06</td>\n",
       "      <td>55.000000</td>\n",
       "      <td>0.000000</td>\n",
       "      <td>0.000000</td>\n",
       "      <td>0.000000</td>\n",
       "      <td>0.000000</td>\n",
       "      <td>0.000000</td>\n",
       "      <td>1.000000</td>\n",
       "    </tr>\n",
       "    <tr>\n",
       "      <th>max</th>\n",
       "      <td>9.999816e+14</td>\n",
       "      <td>5.790484e+06</td>\n",
       "      <td>115.000000</td>\n",
       "      <td>1.000000</td>\n",
       "      <td>1.000000</td>\n",
       "      <td>1.000000</td>\n",
       "      <td>1.000000</td>\n",
       "      <td>4.000000</td>\n",
       "      <td>1.000000</td>\n",
       "    </tr>\n",
       "  </tbody>\n",
       "</table>\n",
       "</div>"
      ],
      "text/plain": [
       "          PatientId  AppointmentID            Age    Scholarship  \\\n",
       "count  1.105270e+05   1.105270e+05  110527.000000  110527.000000   \n",
       "mean   1.474963e+14   5.675305e+06      37.088874       0.098266   \n",
       "std    2.560949e+14   7.129575e+04      23.110205       0.297675   \n",
       "min    3.921784e+04   5.030230e+06      -1.000000       0.000000   \n",
       "25%    4.172614e+12   5.640286e+06      18.000000       0.000000   \n",
       "50%    3.173184e+13   5.680573e+06      37.000000       0.000000   \n",
       "75%    9.439172e+13   5.725524e+06      55.000000       0.000000   \n",
       "max    9.999816e+14   5.790484e+06     115.000000       1.000000   \n",
       "\n",
       "        Hipertension       Diabetes     Alcoholism        Handcap  \\\n",
       "count  110527.000000  110527.000000  110527.000000  110527.000000   \n",
       "mean        0.197246       0.071865       0.030400       0.022248   \n",
       "std         0.397921       0.258265       0.171686       0.161543   \n",
       "min         0.000000       0.000000       0.000000       0.000000   \n",
       "25%         0.000000       0.000000       0.000000       0.000000   \n",
       "50%         0.000000       0.000000       0.000000       0.000000   \n",
       "75%         0.000000       0.000000       0.000000       0.000000   \n",
       "max         1.000000       1.000000       1.000000       4.000000   \n",
       "\n",
       "        SMS_received  \n",
       "count  110527.000000  \n",
       "mean        0.321026  \n",
       "std         0.466873  \n",
       "min         0.000000  \n",
       "25%         0.000000  \n",
       "50%         0.000000  \n",
       "75%         1.000000  \n",
       "max         1.000000  "
      ]
     },
     "execution_count": 123,
     "metadata": {},
     "output_type": "execute_result"
    }
   ],
   "source": [
    "# Describe the data to look for features to evaluate, data concerns and possibly new features.\n",
    "df.describe()"
   ]
  },
  {
   "cell_type": "code",
   "execution_count": 124,
   "metadata": {},
   "outputs": [
    {
     "name": "stdout",
     "output_type": "stream",
     "text": [
      "<class 'pandas.core.frame.DataFrame'>\n",
      "RangeIndex: 110527 entries, 0 to 110526\n",
      "Data columns (total 14 columns):\n",
      "PatientId         110527 non-null float64\n",
      "AppointmentID     110527 non-null int64\n",
      "Gender            110527 non-null object\n",
      "ScheduledDay      110527 non-null object\n",
      "AppointmentDay    110527 non-null object\n",
      "Age               110527 non-null int64\n",
      "Neighbourhood     110527 non-null object\n",
      "Scholarship       110527 non-null int64\n",
      "Hipertension      110527 non-null int64\n",
      "Diabetes          110527 non-null int64\n",
      "Alcoholism        110527 non-null int64\n",
      "Handcap           110527 non-null int64\n",
      "SMS_received      110527 non-null int64\n",
      "No-show           110527 non-null object\n",
      "dtypes: float64(1), int64(8), object(5)\n",
      "memory usage: 11.8+ MB\n"
     ]
    }
   ],
   "source": [
    "# Review the data size and object types.\n",
    "df.info()"
   ]
  },
  {
   "cell_type": "code",
   "execution_count": 125,
   "metadata": {},
   "outputs": [
    {
     "data": {
      "text/plain": [
       "PatientId         0\n",
       "AppointmentID     0\n",
       "Gender            0\n",
       "ScheduledDay      0\n",
       "AppointmentDay    0\n",
       "Age               0\n",
       "Neighbourhood     0\n",
       "Scholarship       0\n",
       "Hipertension      0\n",
       "Diabetes          0\n",
       "Alcoholism        0\n",
       "Handcap           0\n",
       "SMS_received      0\n",
       "No-show           0\n",
       "dtype: int64"
      ]
     },
     "execution_count": 125,
     "metadata": {},
     "output_type": "execute_result"
    }
   ],
   "source": [
    "# List columns and null values sum\n",
    "df.isnull().sum()"
   ]
  },
  {
   "cell_type": "code",
   "execution_count": 126,
   "metadata": {},
   "outputs": [
    {
     "data": {
      "text/plain": [
       "0"
      ]
     },
     "execution_count": 126,
     "metadata": {},
     "output_type": "execute_result"
    }
   ],
   "source": [
    "# List duplicate count\n",
    "df.duplicated().sum()"
   ]
  },
  {
   "cell_type": "code",
   "execution_count": 127,
   "metadata": {},
   "outputs": [
    {
     "data": {
      "text/plain": [
       "PatientId         110527\n",
       "AppointmentID     110527\n",
       "Gender            110527\n",
       "ScheduledDay      110527\n",
       "AppointmentDay    110527\n",
       "Age               110527\n",
       "Neighbourhood     110527\n",
       "Scholarship       110527\n",
       "Hipertension      110527\n",
       "Diabetes          110527\n",
       "Alcoholism        110527\n",
       "Handcap           110527\n",
       "SMS_received      110527\n",
       "No-show           110527\n",
       "dtype: int64"
      ]
     },
     "execution_count": 127,
     "metadata": {},
     "output_type": "execute_result"
    }
   ],
   "source": [
    "# List total records\n",
    "df.count()"
   ]
  },
  {
   "cell_type": "code",
   "execution_count": 128,
   "metadata": {},
   "outputs": [
    {
     "data": {
      "text/plain": [
       "PatientId          62299\n",
       "AppointmentID     110527\n",
       "Gender                 2\n",
       "ScheduledDay      103549\n",
       "AppointmentDay        27\n",
       "Age                  104\n",
       "Neighbourhood         81\n",
       "Scholarship            2\n",
       "Hipertension           2\n",
       "Diabetes               2\n",
       "Alcoholism             2\n",
       "Handcap                5\n",
       "SMS_received           2\n",
       "No-show                2\n",
       "dtype: int64"
      ]
     },
     "execution_count": 128,
     "metadata": {},
     "output_type": "execute_result"
    }
   ],
   "source": [
    "# List number of unique records\n",
    "df.nunique()"
   ]
  },
  {
   "cell_type": "code",
   "execution_count": 129,
   "metadata": {},
   "outputs": [
    {
     "data": {
      "text/plain": [
       "str"
      ]
     },
     "execution_count": 129,
     "metadata": {},
     "output_type": "execute_result"
    }
   ],
   "source": [
    "# Find the datatype\n",
    "type(df.Gender[0])"
   ]
  },
  {
   "cell_type": "code",
   "execution_count": 130,
   "metadata": {},
   "outputs": [
    {
     "data": {
      "text/plain": [
       "str"
      ]
     },
     "execution_count": 130,
     "metadata": {},
     "output_type": "execute_result"
    }
   ],
   "source": [
    "# Find the datatype\n",
    "type(df.ScheduledDay[0])"
   ]
  },
  {
   "cell_type": "code",
   "execution_count": 131,
   "metadata": {},
   "outputs": [
    {
     "data": {
      "text/plain": [
       "str"
      ]
     },
     "execution_count": 131,
     "metadata": {},
     "output_type": "execute_result"
    }
   ],
   "source": [
    "# Find the datatype\n",
    "type(df.Gender[0])"
   ]
  },
  {
   "cell_type": "code",
   "execution_count": 132,
   "metadata": {},
   "outputs": [
    {
     "data": {
      "text/plain": [
       "str"
      ]
     },
     "execution_count": 132,
     "metadata": {},
     "output_type": "execute_result"
    }
   ],
   "source": [
    "# Find the datatype\n",
    "type(df.AppointmentDay[0])"
   ]
  },
  {
   "cell_type": "code",
   "execution_count": 133,
   "metadata": {},
   "outputs": [
    {
     "data": {
      "text/plain": [
       "str"
      ]
     },
     "execution_count": 133,
     "metadata": {},
     "output_type": "execute_result"
    }
   ],
   "source": [
    "# Find the datatype\n",
    "type(df.Neighbourhood[0])"
   ]
  },
  {
   "cell_type": "code",
   "execution_count": 134,
   "metadata": {},
   "outputs": [
    {
     "data": {
      "text/plain": [
       "str"
      ]
     },
     "execution_count": 134,
     "metadata": {},
     "output_type": "execute_result"
    }
   ],
   "source": [
    "# Find the datatype\n",
    "type(df['No-show'][0])"
   ]
  },
  {
   "cell_type": "markdown",
   "metadata": {},
   "source": [
    "### Schema Changes\n",
    "\n",
    "Let's make a few changes to the column headers for clarity:\n",
    "- Lowercase column names\n",
    "- Separate words within the column name (Ex: AppointmentDay to appointment_day)\n",
    "- Fix misspellings\n",
    "- Change British English to American English\n",
    "- Rename \"no_show\" 'missed_appointment'. The name is confusing since the values are 'No' or 'Yes'.\n",
    "- Rename 'appointment_day' to 'appointment_date'\n",
    "- Rename 'scheduled_date' to 'date_time_scheduled'"
   ]
  },
  {
   "cell_type": "markdown",
   "metadata": {},
   "source": [
    "#### Columns"
   ]
  },
  {
   "cell_type": "code",
   "execution_count": 135,
   "metadata": {},
   "outputs": [
    {
     "data": {
      "text/plain": [
       "Index(['patient_id', 'appointment_id', 'gender', 'scheduled_day',\n",
       "       'appointment_day', 'age', 'neighborhood', 'scholarship', 'hypertension',\n",
       "       'diabetes', 'alcoholism', 'handicap', 'sms_received', 'no_show'],\n",
       "      dtype='object')"
      ]
     },
     "execution_count": 135,
     "metadata": {},
     "output_type": "execute_result"
    }
   ],
   "source": [
    "# Create a new array of labels that take care of the following nomenclature mentions above: lowercase, proper American English, misspelled words fixed\n",
    "\n",
    "# Create headers\n",
    "headers = ['patient_id', 'appointment_id', 'gender', 'scheduled_day', 'appointment_day', 'age', 'neighborhood', 'scholarship', 'hypertension', 'diabetes', 'alcoholism', 'handicap', 'sms_received', 'no_show']\n",
    "df.columns = headers\n",
    "\n",
    "df.columns"
   ]
  },
  {
   "cell_type": "markdown",
   "metadata": {},
   "source": [
    "#### No-show"
   ]
  },
  {
   "cell_type": "code",
   "execution_count": 136,
   "metadata": {},
   "outputs": [
    {
     "data": {
      "text/plain": [
       "Index(['patient_id', 'appointment_id', 'gender', 'scheduled_day',\n",
       "       'appointment_day', 'age', 'neighborhood', 'scholarship', 'hypertension',\n",
       "       'diabetes', 'alcoholism', 'handicap', 'sms_received',\n",
       "       'missed_appointment'],\n",
       "      dtype='object')"
      ]
     },
     "execution_count": 136,
     "metadata": {},
     "output_type": "execute_result"
    }
   ],
   "source": [
    "# Change 'no_show' to 'missed_appointment'\n",
    "df.rename(columns={'no_show':'missed_appointment'}, inplace=True)\n",
    "df.columns"
   ]
  },
  {
   "cell_type": "markdown",
   "metadata": {},
   "source": [
    "#### appointment_day"
   ]
  },
  {
   "cell_type": "code",
   "execution_count": 137,
   "metadata": {},
   "outputs": [
    {
     "data": {
      "text/plain": [
       "Index(['patient_id', 'appointment_id', 'gender', 'scheduled_day',\n",
       "       'appointment_date', 'age', 'neighborhood', 'scholarship',\n",
       "       'hypertension', 'diabetes', 'alcoholism', 'handicap', 'sms_received',\n",
       "       'missed_appointment'],\n",
       "      dtype='object')"
      ]
     },
     "execution_count": 137,
     "metadata": {},
     "output_type": "execute_result"
    }
   ],
   "source": [
    "# Change 'appointment_day' to 'appointment_date'\n",
    "\n",
    "df.rename(columns={'appointment_day':'appointment_date'}, inplace=True)\n",
    "df.columns"
   ]
  },
  {
   "cell_type": "markdown",
   "metadata": {},
   "source": [
    "#### scheduled_day"
   ]
  },
  {
   "cell_type": "code",
   "execution_count": 138,
   "metadata": {},
   "outputs": [
    {
     "data": {
      "text/plain": [
       "Index(['patient_id', 'appointment_id', 'gender', 'date_time_scheduled',\n",
       "       'appointment_date', 'age', 'neighborhood', 'scholarship',\n",
       "       'hypertension', 'diabetes', 'alcoholism', 'handicap', 'sms_received',\n",
       "       'missed_appointment'],\n",
       "      dtype='object')"
      ]
     },
     "execution_count": 138,
     "metadata": {},
     "output_type": "execute_result"
    }
   ],
   "source": [
    "# Change 'scheduled_day' to 'date_time_scheduled'\n",
    "\n",
    "df.rename(columns={'scheduled_day':'date_time_scheduled'}, inplace=True)\n",
    "df.columns"
   ]
  },
  {
   "cell_type": "markdown",
   "metadata": {},
   "source": [
    "#### Review changes with data"
   ]
  },
  {
   "cell_type": "code",
   "execution_count": 139,
   "metadata": {},
   "outputs": [
    {
     "data": {
      "text/html": [
       "<div>\n",
       "<style scoped>\n",
       "    .dataframe tbody tr th:only-of-type {\n",
       "        vertical-align: middle;\n",
       "    }\n",
       "\n",
       "    .dataframe tbody tr th {\n",
       "        vertical-align: top;\n",
       "    }\n",
       "\n",
       "    .dataframe thead th {\n",
       "        text-align: right;\n",
       "    }\n",
       "</style>\n",
       "<table border=\"1\" class=\"dataframe\">\n",
       "  <thead>\n",
       "    <tr style=\"text-align: right;\">\n",
       "      <th></th>\n",
       "      <th>patient_id</th>\n",
       "      <th>appointment_id</th>\n",
       "      <th>gender</th>\n",
       "      <th>date_time_scheduled</th>\n",
       "      <th>appointment_date</th>\n",
       "      <th>age</th>\n",
       "      <th>neighborhood</th>\n",
       "      <th>scholarship</th>\n",
       "      <th>hypertension</th>\n",
       "      <th>diabetes</th>\n",
       "      <th>alcoholism</th>\n",
       "      <th>handicap</th>\n",
       "      <th>sms_received</th>\n",
       "      <th>missed_appointment</th>\n",
       "    </tr>\n",
       "  </thead>\n",
       "  <tbody>\n",
       "    <tr>\n",
       "      <th>0</th>\n",
       "      <td>2.987250e+13</td>\n",
       "      <td>5642903</td>\n",
       "      <td>F</td>\n",
       "      <td>2016-04-29T18:38:08Z</td>\n",
       "      <td>2016-04-29T00:00:00Z</td>\n",
       "      <td>62</td>\n",
       "      <td>JARDIM DA PENHA</td>\n",
       "      <td>0</td>\n",
       "      <td>1</td>\n",
       "      <td>0</td>\n",
       "      <td>0</td>\n",
       "      <td>0</td>\n",
       "      <td>0</td>\n",
       "      <td>No</td>\n",
       "    </tr>\n",
       "    <tr>\n",
       "      <th>1</th>\n",
       "      <td>5.589978e+14</td>\n",
       "      <td>5642503</td>\n",
       "      <td>M</td>\n",
       "      <td>2016-04-29T16:08:27Z</td>\n",
       "      <td>2016-04-29T00:00:00Z</td>\n",
       "      <td>56</td>\n",
       "      <td>JARDIM DA PENHA</td>\n",
       "      <td>0</td>\n",
       "      <td>0</td>\n",
       "      <td>0</td>\n",
       "      <td>0</td>\n",
       "      <td>0</td>\n",
       "      <td>0</td>\n",
       "      <td>No</td>\n",
       "    </tr>\n",
       "    <tr>\n",
       "      <th>2</th>\n",
       "      <td>4.262962e+12</td>\n",
       "      <td>5642549</td>\n",
       "      <td>F</td>\n",
       "      <td>2016-04-29T16:19:04Z</td>\n",
       "      <td>2016-04-29T00:00:00Z</td>\n",
       "      <td>62</td>\n",
       "      <td>MATA DA PRAIA</td>\n",
       "      <td>0</td>\n",
       "      <td>0</td>\n",
       "      <td>0</td>\n",
       "      <td>0</td>\n",
       "      <td>0</td>\n",
       "      <td>0</td>\n",
       "      <td>No</td>\n",
       "    </tr>\n",
       "    <tr>\n",
       "      <th>3</th>\n",
       "      <td>8.679512e+11</td>\n",
       "      <td>5642828</td>\n",
       "      <td>F</td>\n",
       "      <td>2016-04-29T17:29:31Z</td>\n",
       "      <td>2016-04-29T00:00:00Z</td>\n",
       "      <td>8</td>\n",
       "      <td>PONTAL DE CAMBURI</td>\n",
       "      <td>0</td>\n",
       "      <td>0</td>\n",
       "      <td>0</td>\n",
       "      <td>0</td>\n",
       "      <td>0</td>\n",
       "      <td>0</td>\n",
       "      <td>No</td>\n",
       "    </tr>\n",
       "    <tr>\n",
       "      <th>4</th>\n",
       "      <td>8.841186e+12</td>\n",
       "      <td>5642494</td>\n",
       "      <td>F</td>\n",
       "      <td>2016-04-29T16:07:23Z</td>\n",
       "      <td>2016-04-29T00:00:00Z</td>\n",
       "      <td>56</td>\n",
       "      <td>JARDIM DA PENHA</td>\n",
       "      <td>0</td>\n",
       "      <td>1</td>\n",
       "      <td>1</td>\n",
       "      <td>0</td>\n",
       "      <td>0</td>\n",
       "      <td>0</td>\n",
       "      <td>No</td>\n",
       "    </tr>\n",
       "  </tbody>\n",
       "</table>\n",
       "</div>"
      ],
      "text/plain": [
       "     patient_id  appointment_id gender   date_time_scheduled  \\\n",
       "0  2.987250e+13         5642903      F  2016-04-29T18:38:08Z   \n",
       "1  5.589978e+14         5642503      M  2016-04-29T16:08:27Z   \n",
       "2  4.262962e+12         5642549      F  2016-04-29T16:19:04Z   \n",
       "3  8.679512e+11         5642828      F  2016-04-29T17:29:31Z   \n",
       "4  8.841186e+12         5642494      F  2016-04-29T16:07:23Z   \n",
       "\n",
       "       appointment_date  age       neighborhood  scholarship  hypertension  \\\n",
       "0  2016-04-29T00:00:00Z   62    JARDIM DA PENHA            0             1   \n",
       "1  2016-04-29T00:00:00Z   56    JARDIM DA PENHA            0             0   \n",
       "2  2016-04-29T00:00:00Z   62      MATA DA PRAIA            0             0   \n",
       "3  2016-04-29T00:00:00Z    8  PONTAL DE CAMBURI            0             0   \n",
       "4  2016-04-29T00:00:00Z   56    JARDIM DA PENHA            0             1   \n",
       "\n",
       "   diabetes  alcoholism  handicap  sms_received missed_appointment  \n",
       "0         0           0         0             0                 No  \n",
       "1         0           0         0             0                 No  \n",
       "2         0           0         0             0                 No  \n",
       "3         0           0         0             0                 No  \n",
       "4         1           0         0             0                 No  "
      ]
     },
     "execution_count": 139,
     "metadata": {},
     "output_type": "execute_result"
    }
   ],
   "source": [
    "df.head()"
   ]
  },
  {
   "cell_type": "markdown",
   "metadata": {},
   "source": [
    "### Data Quality\n",
    "Based on the data output in the General Properties section, a few observations are made about quality of the data:\n",
    "- There is no need to fill in NaN or empty values, none of the columns have null values.\n",
    "- Age seems to have some outliers that need to be addressed\n",
    "- Delete appointment_id column if the column has no duplicates, suggesting this column is only a unique identifier\n",
    "- Convert handicap to an int. The data seems to represent a scale and we can't be interpreted as a boolean. We can assume it to be a true/false value though.\n",
    "- Convert patient_id from float to an int. Int data types are easier to work with.\n",
    "- Convert date_time_scheduled column values from string to date object. We will be able to do date math on date objects.\n",
    "- Convert appointment_date column values from string to date object. We will be able to do date math on date objects.\n",
    "- Convert missed_appointment string to int data type"
   ]
  },
  {
   "cell_type": "markdown",
   "metadata": {},
   "source": [
    "#### Clean age"
   ]
  },
  {
   "cell_type": "code",
   "execution_count": 140,
   "metadata": {},
   "outputs": [
    {
     "data": {
      "text/plain": [
       "count    110527.000000\n",
       "mean         37.088874\n",
       "std          23.110205\n",
       "min          -1.000000\n",
       "25%          18.000000\n",
       "50%          37.000000\n",
       "75%          55.000000\n",
       "max         115.000000\n",
       "Name: age, dtype: float64"
      ]
     },
     "execution_count": 140,
     "metadata": {},
     "output_type": "execute_result"
    }
   ],
   "source": [
    "df.age.describe()"
   ]
  },
  {
   "cell_type": "code",
   "execution_count": 141,
   "metadata": {},
   "outputs": [
    {
     "data": {
      "image/png": "[encoded data removed]",
      "text/plain": [
       "<Figure size 720x720 with 1 Axes>"
      ]
     },
     "metadata": {},
     "output_type": "display_data"
    }
   ],
   "source": [
    "# Set SNS settings for all plots.\n",
    "sns.set(style=\"whitegrid\")\n",
    "sns.set(rc={'figure.figsize':(10,10)})\n",
    "\n",
    "df.age.hist();\n",
    "plt.xlabel(\"Age\", fontsize=15)\n",
    "plt.ylabel(\"Count\",fontsize=15)\n",
    "plt.show()"
   ]
  },
  {
   "cell_type": "code",
   "execution_count": 142,
   "metadata": {},
   "outputs": [],
   "source": [
    "# It's possible age 0 (zero) is for babies less than 1 year old, but, we can't assume that. Unfortately the \n",
    "# data type is not a float, which could represent less than 1 year old.\n",
    "\n",
    "# Also drop records less than zero\n",
    "\n",
    "# Drop both types of records.\n",
    "\n",
    "# Get names of indexes for which column age of zero\n",
    "records = df[df.age <= 0].index\n",
    "\n",
    "# Delete records\n",
    "df.drop(records , inplace=True)"
   ]
  },
  {
   "cell_type": "code",
   "execution_count": 143,
   "metadata": {},
   "outputs": [
    {
     "data": {
      "text/plain": [
       "count    106987.000000\n",
       "mean         38.316085\n",
       "std          22.466214\n",
       "min           1.000000\n",
       "25%          19.000000\n",
       "50%          38.000000\n",
       "75%          56.000000\n",
       "max         115.000000\n",
       "Name: age, dtype: float64"
      ]
     },
     "execution_count": 143,
     "metadata": {},
     "output_type": "execute_result"
    }
   ],
   "source": [
    "# Show that the age data has been cleaned.\n",
    "df.age.describe()"
   ]
  },
  {
   "cell_type": "markdown",
   "metadata": {},
   "source": [
    "#### Clean patient_id"
   ]
  },
  {
   "cell_type": "code",
   "execution_count": 144,
   "metadata": {},
   "outputs": [
    {
     "name": "stdout",
     "output_type": "stream",
     "text": [
      "int64\n"
     ]
    }
   ],
   "source": [
    "# Convert (if not converted already) missed_appointments by converting Yes/No strings to 1/0 integers.\n",
    "\n",
    "if df.patient_id.dtype != 'int64':\n",
    "    df.patient_id = df.patient_id.astype('int64')\n",
    "\n",
    "print(df.patient_id.dtype)"
   ]
  },
  {
   "cell_type": "markdown",
   "metadata": {},
   "source": [
    "#### Clean handicap"
   ]
  },
  {
   "cell_type": "code",
   "execution_count": 145,
   "metadata": {},
   "outputs": [
    {
     "data": {
      "text/html": [
       "<div>\n",
       "<style scoped>\n",
       "    .dataframe tbody tr th:only-of-type {\n",
       "        vertical-align: middle;\n",
       "    }\n",
       "\n",
       "    .dataframe tbody tr th {\n",
       "        vertical-align: top;\n",
       "    }\n",
       "\n",
       "    .dataframe thead th {\n",
       "        text-align: right;\n",
       "    }\n",
       "</style>\n",
       "<table border=\"1\" class=\"dataframe\">\n",
       "  <thead>\n",
       "    <tr style=\"text-align: right;\">\n",
       "      <th></th>\n",
       "      <th>patient_id</th>\n",
       "      <th>handicap_counts</th>\n",
       "    </tr>\n",
       "  </thead>\n",
       "  <tbody>\n",
       "    <tr>\n",
       "      <th>0</th>\n",
       "      <td>39217</td>\n",
       "      <td>0</td>\n",
       "    </tr>\n",
       "    <tr>\n",
       "      <th>1</th>\n",
       "      <td>43741</td>\n",
       "      <td>0</td>\n",
       "    </tr>\n",
       "    <tr>\n",
       "      <th>2</th>\n",
       "      <td>93779</td>\n",
       "      <td>0</td>\n",
       "    </tr>\n",
       "    <tr>\n",
       "      <th>3</th>\n",
       "      <td>141724</td>\n",
       "      <td>0</td>\n",
       "    </tr>\n",
       "    <tr>\n",
       "      <th>4</th>\n",
       "      <td>537615</td>\n",
       "      <td>0</td>\n",
       "    </tr>\n",
       "  </tbody>\n",
       "</table>\n",
       "</div>"
      ],
      "text/plain": [
       "   patient_id  handicap_counts\n",
       "0       39217                0\n",
       "1       43741                0\n",
       "2       93779                0\n",
       "3      141724                0\n",
       "4      537615                0"
      ]
     },
     "execution_count": 145,
     "metadata": {},
     "output_type": "execute_result"
    }
   ],
   "source": [
    "# Create a handicap DataFrame to help us sum up the handcap values\n",
    "\n",
    "handicap = df.groupby(['patient_id'])['handicap'].sum().reset_index()\n",
    "handicap.columns = ['patient_id', 'handicap_counts']\n",
    "handicap.set_index('patient_id')\n",
    "\n",
    "handicap.head()"
   ]
  },
  {
   "cell_type": "code",
   "execution_count": 146,
   "metadata": {},
   "outputs": [
    {
     "data": {
      "text/html": [
       "<div>\n",
       "<style scoped>\n",
       "    .dataframe tbody tr th:only-of-type {\n",
       "        vertical-align: middle;\n",
       "    }\n",
       "\n",
       "    .dataframe tbody tr th {\n",
       "        vertical-align: top;\n",
       "    }\n",
       "\n",
       "    .dataframe thead th {\n",
       "        text-align: right;\n",
       "    }\n",
       "</style>\n",
       "<table border=\"1\" class=\"dataframe\">\n",
       "  <thead>\n",
       "    <tr style=\"text-align: right;\">\n",
       "      <th></th>\n",
       "      <th>patient_id</th>\n",
       "      <th>appointment_id</th>\n",
       "      <th>gender</th>\n",
       "      <th>date_time_scheduled</th>\n",
       "      <th>appointment_date</th>\n",
       "      <th>age</th>\n",
       "      <th>neighborhood</th>\n",
       "      <th>scholarship</th>\n",
       "      <th>hypertension</th>\n",
       "      <th>diabetes</th>\n",
       "      <th>alcoholism</th>\n",
       "      <th>handicap</th>\n",
       "      <th>sms_received</th>\n",
       "      <th>missed_appointment</th>\n",
       "    </tr>\n",
       "  </thead>\n",
       "  <tbody>\n",
       "    <tr>\n",
       "      <th>0</th>\n",
       "      <td>29872499824296</td>\n",
       "      <td>5642903</td>\n",
       "      <td>F</td>\n",
       "      <td>2016-04-29T18:38:08Z</td>\n",
       "      <td>2016-04-29T00:00:00Z</td>\n",
       "      <td>62</td>\n",
       "      <td>JARDIM DA PENHA</td>\n",
       "      <td>0</td>\n",
       "      <td>1</td>\n",
       "      <td>0</td>\n",
       "      <td>0</td>\n",
       "      <td>0</td>\n",
       "      <td>0</td>\n",
       "      <td>No</td>\n",
       "    </tr>\n",
       "    <tr>\n",
       "      <th>1</th>\n",
       "      <td>558997776694438</td>\n",
       "      <td>5642503</td>\n",
       "      <td>M</td>\n",
       "      <td>2016-04-29T16:08:27Z</td>\n",
       "      <td>2016-04-29T00:00:00Z</td>\n",
       "      <td>56</td>\n",
       "      <td>JARDIM DA PENHA</td>\n",
       "      <td>0</td>\n",
       "      <td>0</td>\n",
       "      <td>0</td>\n",
       "      <td>0</td>\n",
       "      <td>0</td>\n",
       "      <td>0</td>\n",
       "      <td>No</td>\n",
       "    </tr>\n",
       "    <tr>\n",
       "      <th>2</th>\n",
       "      <td>4262962299951</td>\n",
       "      <td>5642549</td>\n",
       "      <td>F</td>\n",
       "      <td>2016-04-29T16:19:04Z</td>\n",
       "      <td>2016-04-29T00:00:00Z</td>\n",
       "      <td>62</td>\n",
       "      <td>MATA DA PRAIA</td>\n",
       "      <td>0</td>\n",
       "      <td>0</td>\n",
       "      <td>0</td>\n",
       "      <td>0</td>\n",
       "      <td>0</td>\n",
       "      <td>0</td>\n",
       "      <td>No</td>\n",
       "    </tr>\n",
       "    <tr>\n",
       "      <th>3</th>\n",
       "      <td>867951213174</td>\n",
       "      <td>5642828</td>\n",
       "      <td>F</td>\n",
       "      <td>2016-04-29T17:29:31Z</td>\n",
       "      <td>2016-04-29T00:00:00Z</td>\n",
       "      <td>8</td>\n",
       "      <td>PONTAL DE CAMBURI</td>\n",
       "      <td>0</td>\n",
       "      <td>0</td>\n",
       "      <td>0</td>\n",
       "      <td>0</td>\n",
       "      <td>0</td>\n",
       "      <td>0</td>\n",
       "      <td>No</td>\n",
       "    </tr>\n",
       "    <tr>\n",
       "      <th>4</th>\n",
       "      <td>8841186448183</td>\n",
       "      <td>5642494</td>\n",
       "      <td>F</td>\n",
       "      <td>2016-04-29T16:07:23Z</td>\n",
       "      <td>2016-04-29T00:00:00Z</td>\n",
       "      <td>56</td>\n",
       "      <td>JARDIM DA PENHA</td>\n",
       "      <td>0</td>\n",
       "      <td>1</td>\n",
       "      <td>1</td>\n",
       "      <td>0</td>\n",
       "      <td>0</td>\n",
       "      <td>0</td>\n",
       "      <td>No</td>\n",
       "    </tr>\n",
       "  </tbody>\n",
       "</table>\n",
       "</div>"
      ],
      "text/plain": [
       "        patient_id  appointment_id gender   date_time_scheduled  \\\n",
       "0   29872499824296         5642903      F  2016-04-29T18:38:08Z   \n",
       "1  558997776694438         5642503      M  2016-04-29T16:08:27Z   \n",
       "2    4262962299951         5642549      F  2016-04-29T16:19:04Z   \n",
       "3     867951213174         5642828      F  2016-04-29T17:29:31Z   \n",
       "4    8841186448183         5642494      F  2016-04-29T16:07:23Z   \n",
       "\n",
       "       appointment_date  age       neighborhood  scholarship  hypertension  \\\n",
       "0  2016-04-29T00:00:00Z   62    JARDIM DA PENHA            0             1   \n",
       "1  2016-04-29T00:00:00Z   56    JARDIM DA PENHA            0             0   \n",
       "2  2016-04-29T00:00:00Z   62      MATA DA PRAIA            0             0   \n",
       "3  2016-04-29T00:00:00Z    8  PONTAL DE CAMBURI            0             0   \n",
       "4  2016-04-29T00:00:00Z   56    JARDIM DA PENHA            0             1   \n",
       "\n",
       "   diabetes  alcoholism  handicap  sms_received missed_appointment  \n",
       "0         0           0         0             0                 No  \n",
       "1         0           0         0             0                 No  \n",
       "2         0           0         0             0                 No  \n",
       "3         0           0         0             0                 No  \n",
       "4         1           0         0             0                 No  "
      ]
     },
     "execution_count": 146,
     "metadata": {},
     "output_type": "execute_result"
    }
   ],
   "source": [
    "# Populate the new feature, called repeat_handicap. By default, no one is a repeat handicap. \n",
    "# Only the handicaps that have duplicate records get updated.\n",
    "\n",
    "# Note: This code block takes a while to process.\n",
    "        \n",
    "# Function to use within the apply\n",
    "def get_handicap_counts(patient_id):\n",
    "    if (handicap.query('patient_id == {}'.format(patient_id)).values[0][1]) > 0:\n",
    "        return 1\n",
    "    else:\n",
    "        return 0\n",
    "\n",
    "# handicap.query('patient_id == {}'.format('3423831496')).values[0][1]\n",
    "\n",
    "\n",
    "# # Determine if the handicap has multiple visits, if so, update the repeat_handicap column.\n",
    "df['handicap'] = df.patient_id.apply(get_handicap_counts) # 2min 08sec\n",
    "\n",
    "# Show summary of data\n",
    "df.head()"
   ]
  },
  {
   "cell_type": "markdown",
   "metadata": {},
   "source": [
    "#### Clean date_time_scheduled"
   ]
  },
  {
   "cell_type": "code",
   "execution_count": 147,
   "metadata": {},
   "outputs": [
    {
     "name": "stdout",
     "output_type": "stream",
     "text": [
      "datetime64[ns]\n"
     ]
    }
   ],
   "source": [
    "# Convert date_time_scheduled from string to datetime object.\n",
    "# Note: The timezone will be set to UTC and the timezone offset will be removed.\n",
    "\n",
    "if isinstance(df.date_time_scheduled[0], str):\n",
    "    df.date_time_scheduled = pd.to_datetime(df.date_time_scheduled.values, format='%Y-%m-%d %H:%M:%S').tz_localize(None)\n",
    "    \n",
    "print(df.date_time_scheduled.dtype)"
   ]
  },
  {
   "cell_type": "markdown",
   "metadata": {},
   "source": [
    "#### Clean appointment_date"
   ]
  },
  {
   "cell_type": "code",
   "execution_count": 148,
   "metadata": {},
   "outputs": [
    {
     "name": "stdout",
     "output_type": "stream",
     "text": [
      "datetime64[ns]\n"
     ]
    }
   ],
   "source": [
    "# Convert appointment_date from string to datetime object.\n",
    "# Note: Time was not provided so timezone offset will be removed.\n",
    "\n",
    "if isinstance(df.appointment_date[0], str):\n",
    "    df.appointment_date = pd.to_datetime(df.appointment_date.values, format='%Y-%m-%d %H:%M:%S').tz_localize(None)\n",
    "\n",
    "print(df.appointment_date.dtype)"
   ]
  },
  {
   "cell_type": "markdown",
   "metadata": {},
   "source": [
    "#### Clean missed_appointment"
   ]
  },
  {
   "cell_type": "code",
   "execution_count": 149,
   "metadata": {},
   "outputs": [
    {
     "data": {
      "text/plain": [
       "dtype('int64')"
      ]
     },
     "execution_count": 149,
     "metadata": {},
     "output_type": "execute_result"
    }
   ],
   "source": [
    "# Convert (if not converted already) missed_appointments by converting Yes/No strings to 1/0 integers.\n",
    "\n",
    "if df.missed_appointment.dtype != 'int64':\n",
    "    ma_map = {'Yes': 1, 'No': 0}\n",
    "    df['missed_appointment'] = df['missed_appointment'].map(ma_map)\n",
    "\n",
    "# Print out the type\n",
    "df.missed_appointment.dtype"
   ]
  },
  {
   "cell_type": "markdown",
   "metadata": {},
   "source": [
    "#### Clean appointment_id"
   ]
  },
  {
   "cell_type": "code",
   "execution_count": 150,
   "metadata": {},
   "outputs": [],
   "source": [
    "# If appointment_id is a unique identifier, the column can be removed.\n",
    "# Let's see if this column has any duplicates, if not, remove it \n",
    "\n",
    "if 'appointment_id' in df.columns:\n",
    "    if df.appointment_id.count() == df.appointment_id.nunique():\n",
    "        df.drop(\"appointment_id\", axis=1, inplace=True)"
   ]
  },
  {
   "cell_type": "markdown",
   "metadata": {},
   "source": [
    "### Feature Engineering\n",
    "As it was mentioned in the Introduction section, I want to add some new features to the dataset that I think will provide some clues to the 30% missed appointment rate.\n",
    "- Repeat Patient\n",
    "- Healthy Patient\n",
    "- Time Delta Days\n",
    "- Appointment Day Of Week"
   ]
  },
  {
   "cell_type": "markdown",
   "metadata": {},
   "source": [
    "#### Repeat patient\n",
    "If the patient visits the office more than once a year, let's deem them as a repeat patient."
   ]
  },
  {
   "cell_type": "code",
   "execution_count": 151,
   "metadata": {},
   "outputs": [
    {
     "data": {
      "text/html": [
       "<div>\n",
       "<style scoped>\n",
       "    .dataframe tbody tr th:only-of-type {\n",
       "        vertical-align: middle;\n",
       "    }\n",
       "\n",
       "    .dataframe tbody tr th {\n",
       "        vertical-align: top;\n",
       "    }\n",
       "\n",
       "    .dataframe thead th {\n",
       "        text-align: right;\n",
       "    }\n",
       "</style>\n",
       "<table border=\"1\" class=\"dataframe\">\n",
       "  <thead>\n",
       "    <tr style=\"text-align: right;\">\n",
       "      <th></th>\n",
       "      <th>patient_id</th>\n",
       "      <th>counts</th>\n",
       "    </tr>\n",
       "  </thead>\n",
       "  <tbody>\n",
       "    <tr>\n",
       "      <th>0</th>\n",
       "      <td>822145925426128</td>\n",
       "      <td>88</td>\n",
       "    </tr>\n",
       "    <tr>\n",
       "      <th>1</th>\n",
       "      <td>99637671331</td>\n",
       "      <td>84</td>\n",
       "    </tr>\n",
       "    <tr>\n",
       "      <th>2</th>\n",
       "      <td>26886125921145</td>\n",
       "      <td>70</td>\n",
       "    </tr>\n",
       "    <tr>\n",
       "      <th>3</th>\n",
       "      <td>33534783483176</td>\n",
       "      <td>65</td>\n",
       "    </tr>\n",
       "    <tr>\n",
       "      <th>4</th>\n",
       "      <td>6264198675331</td>\n",
       "      <td>62</td>\n",
       "    </tr>\n",
       "  </tbody>\n",
       "</table>\n",
       "</div>"
      ],
      "text/plain": [
       "        patient_id  counts\n",
       "0  822145925426128      88\n",
       "1      99637671331      84\n",
       "2   26886125921145      70\n",
       "3   33534783483176      65\n",
       "4    6264198675331      62"
      ]
     },
     "execution_count": 151,
     "metadata": {},
     "output_type": "execute_result"
    }
   ],
   "source": [
    "# Create a patient_counts DataFrame to help us populate the new column in the next code block.\n",
    "\n",
    "patient_counts = pd.DataFrame(df.patient_id.value_counts()).reset_index()\n",
    "patient_counts.columns = ['patient_id', 'counts']\n",
    "patient_counts.set_index('patient_id')\n",
    "\n",
    "patient_counts.head()"
   ]
  },
  {
   "cell_type": "code",
   "execution_count": 152,
   "metadata": {},
   "outputs": [
    {
     "data": {
      "text/plain": [
       "1    70138\n",
       "0    36849\n",
       "Name: repeat_patient, dtype: int64"
      ]
     },
     "execution_count": 152,
     "metadata": {},
     "output_type": "execute_result"
    }
   ],
   "source": [
    "# Populate the new feature, called repeat_patient. By default, no one is a repeat patient. \n",
    "# Only the patients that have duplicate records get updated.\n",
    "\n",
    "# Note: This code block takes a while to process.\n",
    "        \n",
    "# Function to use within the apply\n",
    "def get_patient_counts(patient_id):\n",
    "    if (patient_counts.query('patient_id == {}'.format(patient_id)).values[0][1]) > 1:\n",
    "        return 1\n",
    "    else:\n",
    "        return 0\n",
    "\n",
    "# Determine if the patient has multiple visits, if so, update the repeat_patient column.\n",
    "df['repeat_patient'] = df.patient_id.apply(get_patient_counts) # 2min 11sec\n",
    "\n",
    "# Show the repeat_patient data\n",
    "df.repeat_patient.value_counts()"
   ]
  },
  {
   "cell_type": "markdown",
   "metadata": {},
   "source": [
    "#### Healthy patient\n",
    "If the patient has diabetes, hypertension or alcoholism, let's deem them as unhealthy."
   ]
  },
  {
   "cell_type": "code",
   "execution_count": 153,
   "metadata": {},
   "outputs": [
    {
     "data": {
      "text/plain": [
       "1    81772\n",
       "0    25215\n",
       "Name: healthy_patient, dtype: int64"
      ]
     },
     "execution_count": 153,
     "metadata": {},
     "output_type": "execute_result"
    }
   ],
   "source": [
    "# Loop through the list of patients and determine if they are healthy. Based on the answer,\n",
    "# Add the new column with the proper boolean value\n",
    "\n",
    "df['healthy_patient'] = df.apply(lambda row: 1 if (row['hypertension'] + row['diabetes'] + row['alcoholism']) == 0 else 0, axis = 1)\n",
    "\n",
    "# Show the healthy_patient data\n",
    "df.healthy_patient.value_counts()"
   ]
  },
  {
   "cell_type": "markdown",
   "metadata": {},
   "source": [
    "#### Time Delta Days\n",
    "Calculate the time, in days, from the day of scheduling the appointment to the appointment date."
   ]
  },
  {
   "cell_type": "code",
   "execution_count": 154,
   "metadata": {},
   "outputs": [
    {
     "data": {
      "text/plain": [
       "0   -1 days +05:21:52\n",
       "1   -1 days +07:51:33\n",
       "2   -1 days +07:40:56\n",
       "3   -1 days +06:30:29\n",
       "4   -1 days +07:52:37\n",
       "dtype: timedelta64[ns]"
      ]
     },
     "execution_count": 154,
     "metadata": {},
     "output_type": "execute_result"
    }
   ],
   "source": [
    "# Loop through the list of patients and calculate the time delta between date_time_scheduled and appointment_date.\n",
    "\n",
    "def calculate_time_delta(scheduled, appointment):\n",
    "    return (appointment - scheduled)\n",
    "\n",
    "time_delta = df.apply(lambda row: calculate_time_delta(row['date_time_scheduled'], row['appointment_date']), axis = 1)\n",
    "\n",
    "# Show the healthy_patient data\n",
    "time_delta.head()"
   ]
  },
  {
   "cell_type": "markdown",
   "metadata": {},
   "source": [
    "**Notice the negative time delta values. How many negative time values are there?"
   ]
  },
  {
   "cell_type": "code",
   "execution_count": 155,
   "metadata": {},
   "outputs": [
    {
     "data": {
      "text/plain": [
       "37159"
      ]
     },
     "execution_count": 155,
     "metadata": {},
     "output_type": "execute_result"
    }
   ],
   "source": [
    "# Count the negative time values\n",
    "\n",
    "# Format the time to be in a decimal format instead of datetime\n",
    "time_delta_days = time_delta / np.timedelta64(1,'s') / (24 * 3600)\n",
    "\n",
    "# Round out the decimal values\n",
    "df['time_delta_days'] = time_delta_days.round(2)\n",
    "\n",
    "# Show the count\n",
    "df[df.time_delta_days <= 0].time_delta_days.count()"
   ]
  },
  {
   "cell_type": "markdown",
   "metadata": {},
   "source": [
    "**There is no way of knowing exactly how the time differences got this way. There is a good chance that human error is to blame. It's possible the date data was swapped between the two columns when it was entered.**\n",
    "\n",
    "There are two ways to fix this data.\n",
    "- Delete the records\n",
    "- Assume the dates are swapped, if so, we can calculate the time different and take the absolute value.\n",
    "\n",
    "I'm going to assume the later and keep the data."
   ]
  },
  {
   "cell_type": "code",
   "execution_count": 156,
   "metadata": {},
   "outputs": [
    {
     "data": {
      "text/html": [
       "<div>\n",
       "<style scoped>\n",
       "    .dataframe tbody tr th:only-of-type {\n",
       "        vertical-align: middle;\n",
       "    }\n",
       "\n",
       "    .dataframe tbody tr th {\n",
       "        vertical-align: top;\n",
       "    }\n",
       "\n",
       "    .dataframe thead th {\n",
       "        text-align: right;\n",
       "    }\n",
       "</style>\n",
       "<table border=\"1\" class=\"dataframe\">\n",
       "  <thead>\n",
       "    <tr style=\"text-align: right;\">\n",
       "      <th></th>\n",
       "      <th>patient_id</th>\n",
       "      <th>gender</th>\n",
       "      <th>date_time_scheduled</th>\n",
       "      <th>appointment_date</th>\n",
       "      <th>age</th>\n",
       "      <th>neighborhood</th>\n",
       "      <th>scholarship</th>\n",
       "      <th>hypertension</th>\n",
       "      <th>diabetes</th>\n",
       "      <th>alcoholism</th>\n",
       "      <th>handicap</th>\n",
       "      <th>sms_received</th>\n",
       "      <th>missed_appointment</th>\n",
       "      <th>repeat_patient</th>\n",
       "      <th>healthy_patient</th>\n",
       "      <th>time_delta_days</th>\n",
       "    </tr>\n",
       "  </thead>\n",
       "  <tbody>\n",
       "    <tr>\n",
       "      <th>0</th>\n",
       "      <td>29872499824296</td>\n",
       "      <td>F</td>\n",
       "      <td>2016-04-29 18:38:08</td>\n",
       "      <td>2016-04-29</td>\n",
       "      <td>62</td>\n",
       "      <td>JARDIM DA PENHA</td>\n",
       "      <td>0</td>\n",
       "      <td>1</td>\n",
       "      <td>0</td>\n",
       "      <td>0</td>\n",
       "      <td>0</td>\n",
       "      <td>0</td>\n",
       "      <td>0</td>\n",
       "      <td>1</td>\n",
       "      <td>0</td>\n",
       "      <td>0.78</td>\n",
       "    </tr>\n",
       "    <tr>\n",
       "      <th>1</th>\n",
       "      <td>558997776694438</td>\n",
       "      <td>M</td>\n",
       "      <td>2016-04-29 16:08:27</td>\n",
       "      <td>2016-04-29</td>\n",
       "      <td>56</td>\n",
       "      <td>JARDIM DA PENHA</td>\n",
       "      <td>0</td>\n",
       "      <td>0</td>\n",
       "      <td>0</td>\n",
       "      <td>0</td>\n",
       "      <td>0</td>\n",
       "      <td>0</td>\n",
       "      <td>0</td>\n",
       "      <td>1</td>\n",
       "      <td>1</td>\n",
       "      <td>0.67</td>\n",
       "    </tr>\n",
       "    <tr>\n",
       "      <th>2</th>\n",
       "      <td>4262962299951</td>\n",
       "      <td>F</td>\n",
       "      <td>2016-04-29 16:19:04</td>\n",
       "      <td>2016-04-29</td>\n",
       "      <td>62</td>\n",
       "      <td>MATA DA PRAIA</td>\n",
       "      <td>0</td>\n",
       "      <td>0</td>\n",
       "      <td>0</td>\n",
       "      <td>0</td>\n",
       "      <td>0</td>\n",
       "      <td>0</td>\n",
       "      <td>0</td>\n",
       "      <td>1</td>\n",
       "      <td>1</td>\n",
       "      <td>0.68</td>\n",
       "    </tr>\n",
       "    <tr>\n",
       "      <th>3</th>\n",
       "      <td>867951213174</td>\n",
       "      <td>F</td>\n",
       "      <td>2016-04-29 17:29:31</td>\n",
       "      <td>2016-04-29</td>\n",
       "      <td>8</td>\n",
       "      <td>PONTAL DE CAMBURI</td>\n",
       "      <td>0</td>\n",
       "      <td>0</td>\n",
       "      <td>0</td>\n",
       "      <td>0</td>\n",
       "      <td>0</td>\n",
       "      <td>0</td>\n",
       "      <td>0</td>\n",
       "      <td>1</td>\n",
       "      <td>1</td>\n",
       "      <td>0.73</td>\n",
       "    </tr>\n",
       "    <tr>\n",
       "      <th>4</th>\n",
       "      <td>8841186448183</td>\n",
       "      <td>F</td>\n",
       "      <td>2016-04-29 16:07:23</td>\n",
       "      <td>2016-04-29</td>\n",
       "      <td>56</td>\n",
       "      <td>JARDIM DA PENHA</td>\n",
       "      <td>0</td>\n",
       "      <td>1</td>\n",
       "      <td>1</td>\n",
       "      <td>0</td>\n",
       "      <td>0</td>\n",
       "      <td>0</td>\n",
       "      <td>0</td>\n",
       "      <td>0</td>\n",
       "      <td>0</td>\n",
       "      <td>0.67</td>\n",
       "    </tr>\n",
       "  </tbody>\n",
       "</table>\n",
       "</div>"
      ],
      "text/plain": [
       "        patient_id gender date_time_scheduled appointment_date  age  \\\n",
       "0   29872499824296      F 2016-04-29 18:38:08       2016-04-29   62   \n",
       "1  558997776694438      M 2016-04-29 16:08:27       2016-04-29   56   \n",
       "2    4262962299951      F 2016-04-29 16:19:04       2016-04-29   62   \n",
       "3     867951213174      F 2016-04-29 17:29:31       2016-04-29    8   \n",
       "4    8841186448183      F 2016-04-29 16:07:23       2016-04-29   56   \n",
       "\n",
       "        neighborhood  scholarship  hypertension  diabetes  alcoholism  \\\n",
       "0    JARDIM DA PENHA            0             1         0           0   \n",
       "1    JARDIM DA PENHA            0             0         0           0   \n",
       "2      MATA DA PRAIA            0             0         0           0   \n",
       "3  PONTAL DE CAMBURI            0             0         0           0   \n",
       "4    JARDIM DA PENHA            0             1         1           0   \n",
       "\n",
       "   handicap  sms_received  missed_appointment  repeat_patient  \\\n",
       "0         0             0                   0               1   \n",
       "1         0             0                   0               1   \n",
       "2         0             0                   0               1   \n",
       "3         0             0                   0               1   \n",
       "4         0             0                   0               0   \n",
       "\n",
       "   healthy_patient  time_delta_days  \n",
       "0                0             0.78  \n",
       "1                1             0.67  \n",
       "2                1             0.68  \n",
       "3                1             0.73  \n",
       "4                0             0.67  "
      ]
     },
     "execution_count": 156,
     "metadata": {},
     "output_type": "execute_result"
    }
   ],
   "source": [
    "# Convert the delta to absolute values, convert to seconds then back to days. Round to the second decimal place.\n",
    "\n",
    "# Format the time, in absolute value, and to be in a decimal format instead of datetime\n",
    "time_delta_days = time_delta.abs() / np.timedelta64(1,'s') / (24 * 3600)\n",
    "\n",
    "# Round out the decimal values\n",
    "df['time_delta_days'] = time_delta_days.round(2)\n",
    "\n",
    "# Show summary of the data\n",
    "df.head()"
   ]
  },
  {
   "cell_type": "markdown",
   "metadata": {},
   "source": [
    "#### Appointment Day of the Week\n",
    "Let's determine if certain days of the week more missed appointments. Add a new feature that shows the day of the week."
   ]
  },
  {
   "cell_type": "code",
   "execution_count": 157,
   "metadata": {},
   "outputs": [
    {
     "data": {
      "text/plain": [
       "Wednesday    25090\n",
       "Tuesday      24831\n",
       "Monday       21903\n",
       "Friday       18465\n",
       "Thursday     16659\n",
       "Saturday        39\n",
       "Name: day_of_week, dtype: int64"
      ]
     },
     "execution_count": 157,
     "metadata": {},
     "output_type": "execute_result"
    }
   ],
   "source": [
    "# Copy the appointment_date column and format it to show the day of the week.\n",
    "\n",
    "day_of_week = df.appointment_date\n",
    "df['day_of_week'] = df['appointment_date'].apply(lambda x: dt.datetime.strftime(x, '%A'))\n",
    "\n",
    "df.day_of_week.value_counts()"
   ]
  },
  {
   "cell_type": "markdown",
   "metadata": {},
   "source": [
    "<a id='eda'></a>\n",
    "## Exploratory Data Analysis\n",
    "\n",
    "\n",
    "#### Variables\n",
    "Here are the variables I want focus on:\n",
    "- Dependent Variable: missed_appointment\n",
    "- Independent Variable: Gender\n",
    "- Independent Variable: Age\n",
    "- Independent Variable: Repeat Patient\n",
    "- Independent Variable: Healthy Patient\n",
    "- Independent Variable: Neighborhood (medical location)\n",
    "- Independent Variable: Appointment Day Of Week\n",
    "- Independent Variable: Time Delta Days\n",
    "\n",
    "There are more variables that could be considered but I want to focus on these variables and their contribution to the 30% of the missed appointments."
   ]
  },
  {
   "cell_type": "markdown",
   "metadata": {},
   "source": [
    "### Exploratory DataFrame\n",
    "Create a subset of data for only the variables we will be researching on."
   ]
  },
  {
   "cell_type": "code",
   "execution_count": 158,
   "metadata": {},
   "outputs": [],
   "source": [
    "# New columns for subset data.\n",
    "\n",
    "# columns = ['patient_id', 'missed_appointment', 'gender', 'age', 'repeat_patient', 'healthy_patient', 'neighborhood', 'day_of_week', 'time_delta_days']\n",
    "columns = ['missed_appointment', 'gender', 'age', 'repeat_patient', 'healthy_patient', 'neighborhood', 'day_of_week', 'time_delta_days']"
   ]
  },
  {
   "cell_type": "code",
   "execution_count": 159,
   "metadata": {},
   "outputs": [
    {
     "data": {
      "text/html": [
       "<div>\n",
       "<style scoped>\n",
       "    .dataframe tbody tr th:only-of-type {\n",
       "        vertical-align: middle;\n",
       "    }\n",
       "\n",
       "    .dataframe tbody tr th {\n",
       "        vertical-align: top;\n",
       "    }\n",
       "\n",
       "    .dataframe thead th {\n",
       "        text-align: right;\n",
       "    }\n",
       "</style>\n",
       "<table border=\"1\" class=\"dataframe\">\n",
       "  <thead>\n",
       "    <tr style=\"text-align: right;\">\n",
       "      <th></th>\n",
       "      <th>missed_appointment</th>\n",
       "      <th>gender</th>\n",
       "      <th>age</th>\n",
       "      <th>repeat_patient</th>\n",
       "      <th>healthy_patient</th>\n",
       "      <th>neighborhood</th>\n",
       "      <th>day_of_week</th>\n",
       "      <th>time_delta_days</th>\n",
       "    </tr>\n",
       "  </thead>\n",
       "  <tbody>\n",
       "    <tr>\n",
       "      <th>0</th>\n",
       "      <td>0</td>\n",
       "      <td>F</td>\n",
       "      <td>62</td>\n",
       "      <td>1</td>\n",
       "      <td>0</td>\n",
       "      <td>JARDIM DA PENHA</td>\n",
       "      <td>Friday</td>\n",
       "      <td>0.78</td>\n",
       "    </tr>\n",
       "    <tr>\n",
       "      <th>1</th>\n",
       "      <td>0</td>\n",
       "      <td>M</td>\n",
       "      <td>56</td>\n",
       "      <td>1</td>\n",
       "      <td>1</td>\n",
       "      <td>JARDIM DA PENHA</td>\n",
       "      <td>Friday</td>\n",
       "      <td>0.67</td>\n",
       "    </tr>\n",
       "    <tr>\n",
       "      <th>2</th>\n",
       "      <td>0</td>\n",
       "      <td>F</td>\n",
       "      <td>62</td>\n",
       "      <td>1</td>\n",
       "      <td>1</td>\n",
       "      <td>MATA DA PRAIA</td>\n",
       "      <td>Friday</td>\n",
       "      <td>0.68</td>\n",
       "    </tr>\n",
       "    <tr>\n",
       "      <th>3</th>\n",
       "      <td>0</td>\n",
       "      <td>F</td>\n",
       "      <td>8</td>\n",
       "      <td>1</td>\n",
       "      <td>1</td>\n",
       "      <td>PONTAL DE CAMBURI</td>\n",
       "      <td>Friday</td>\n",
       "      <td>0.73</td>\n",
       "    </tr>\n",
       "    <tr>\n",
       "      <th>4</th>\n",
       "      <td>0</td>\n",
       "      <td>F</td>\n",
       "      <td>56</td>\n",
       "      <td>0</td>\n",
       "      <td>0</td>\n",
       "      <td>JARDIM DA PENHA</td>\n",
       "      <td>Friday</td>\n",
       "      <td>0.67</td>\n",
       "    </tr>\n",
       "  </tbody>\n",
       "</table>\n",
       "</div>"
      ],
      "text/plain": [
       "   missed_appointment gender  age  repeat_patient  healthy_patient  \\\n",
       "0                   0      F   62               1                0   \n",
       "1                   0      M   56               1                1   \n",
       "2                   0      F   62               1                1   \n",
       "3                   0      F    8               1                1   \n",
       "4                   0      F   56               0                0   \n",
       "\n",
       "        neighborhood day_of_week  time_delta_days  \n",
       "0    JARDIM DA PENHA      Friday             0.78  \n",
       "1    JARDIM DA PENHA      Friday             0.67  \n",
       "2      MATA DA PRAIA      Friday             0.68  \n",
       "3  PONTAL DE CAMBURI      Friday             0.73  \n",
       "4    JARDIM DA PENHA      Friday             0.67  "
      ]
     },
     "execution_count": 159,
     "metadata": {},
     "output_type": "execute_result"
    }
   ],
   "source": [
    "# Create the subset of data, matched to columns\n",
    "\n",
    "# edf = df[['patient_id', 'missed_appointment', 'gender', 'age', 'repeat_patient', 'healthy_patient', 'neighborhood', 'day_of_week', 'time_delta_days']]\n",
    "edf = df[['missed_appointment', 'gender', 'age', 'repeat_patient', 'healthy_patient', 'neighborhood', 'day_of_week', 'time_delta_days']]\n",
    "\n",
    "# Assign columns\n",
    "edf.columns = columns\n",
    "\n",
    "# Summary of data\n",
    "edf.head()"
   ]
  },
  {
   "cell_type": "code",
   "execution_count": 160,
   "metadata": {},
   "outputs": [
    {
     "data": {
      "image/png": "[encoded data removed]",
      "text/plain": [
       "<Figure size 1152x1008 with 6 Axes>"
      ]
     },
     "metadata": {},
     "output_type": "display_data"
    }
   ],
   "source": [
    "# Create a history plot for all of our columns.\n",
    "edf.hist(figsize=(16,14));"
   ]
  },
  {
   "cell_type": "code",
   "execution_count": 161,
   "metadata": {},
   "outputs": [
    {
     "data": {
      "text/html": [
       "<div>\n",
       "<style scoped>\n",
       "    .dataframe tbody tr th:only-of-type {\n",
       "        vertical-align: middle;\n",
       "    }\n",
       "\n",
       "    .dataframe tbody tr th {\n",
       "        vertical-align: top;\n",
       "    }\n",
       "\n",
       "    .dataframe thead th {\n",
       "        text-align: right;\n",
       "    }\n",
       "</style>\n",
       "<table border=\"1\" class=\"dataframe\">\n",
       "  <thead>\n",
       "    <tr style=\"text-align: right;\">\n",
       "      <th></th>\n",
       "      <th>missed_appointment</th>\n",
       "      <th>age</th>\n",
       "      <th>repeat_patient</th>\n",
       "      <th>healthy_patient</th>\n",
       "      <th>time_delta_days</th>\n",
       "    </tr>\n",
       "  </thead>\n",
       "  <tbody>\n",
       "    <tr>\n",
       "      <th>count</th>\n",
       "      <td>106987.000000</td>\n",
       "      <td>106987.000000</td>\n",
       "      <td>106987.000000</td>\n",
       "      <td>106987.000000</td>\n",
       "      <td>106987.000000</td>\n",
       "    </tr>\n",
       "    <tr>\n",
       "      <th>mean</th>\n",
       "      <td>0.202641</td>\n",
       "      <td>38.316085</td>\n",
       "      <td>0.655575</td>\n",
       "      <td>0.764317</td>\n",
       "      <td>10.007693</td>\n",
       "    </tr>\n",
       "    <tr>\n",
       "      <th>std</th>\n",
       "      <td>0.401969</td>\n",
       "      <td>22.466214</td>\n",
       "      <td>0.475183</td>\n",
       "      <td>0.424427</td>\n",
       "      <td>15.051250</td>\n",
       "    </tr>\n",
       "    <tr>\n",
       "      <th>min</th>\n",
       "      <td>0.000000</td>\n",
       "      <td>1.000000</td>\n",
       "      <td>0.000000</td>\n",
       "      <td>0.000000</td>\n",
       "      <td>0.140000</td>\n",
       "    </tr>\n",
       "    <tr>\n",
       "      <th>25%</th>\n",
       "      <td>0.000000</td>\n",
       "      <td>19.000000</td>\n",
       "      <td>0.000000</td>\n",
       "      <td>1.000000</td>\n",
       "      <td>0.490000</td>\n",
       "    </tr>\n",
       "    <tr>\n",
       "      <th>50%</th>\n",
       "      <td>0.000000</td>\n",
       "      <td>38.000000</td>\n",
       "      <td>1.000000</td>\n",
       "      <td>1.000000</td>\n",
       "      <td>3.500000</td>\n",
       "    </tr>\n",
       "    <tr>\n",
       "      <th>75%</th>\n",
       "      <td>0.000000</td>\n",
       "      <td>56.000000</td>\n",
       "      <td>1.000000</td>\n",
       "      <td>1.000000</td>\n",
       "      <td>13.710000</td>\n",
       "    </tr>\n",
       "    <tr>\n",
       "      <th>max</th>\n",
       "      <td>1.000000</td>\n",
       "      <td>115.000000</td>\n",
       "      <td>1.000000</td>\n",
       "      <td>1.000000</td>\n",
       "      <td>178.550000</td>\n",
       "    </tr>\n",
       "  </tbody>\n",
       "</table>\n",
       "</div>"
      ],
      "text/plain": [
       "       missed_appointment            age  repeat_patient  healthy_patient  \\\n",
       "count       106987.000000  106987.000000   106987.000000    106987.000000   \n",
       "mean             0.202641      38.316085        0.655575         0.764317   \n",
       "std              0.401969      22.466214        0.475183         0.424427   \n",
       "min              0.000000       1.000000        0.000000         0.000000   \n",
       "25%              0.000000      19.000000        0.000000         1.000000   \n",
       "50%              0.000000      38.000000        1.000000         1.000000   \n",
       "75%              0.000000      56.000000        1.000000         1.000000   \n",
       "max              1.000000     115.000000        1.000000         1.000000   \n",
       "\n",
       "       time_delta_days  \n",
       "count    106987.000000  \n",
       "mean         10.007693  \n",
       "std          15.051250  \n",
       "min           0.140000  \n",
       "25%           0.490000  \n",
       "50%           3.500000  \n",
       "75%          13.710000  \n",
       "max         178.550000  "
      ]
     },
     "execution_count": 161,
     "metadata": {},
     "output_type": "execute_result"
    }
   ],
   "source": [
    "# Describe the dataset.\n",
    "edf.describe()"
   ]
  },
  {
   "cell_type": "markdown",
   "metadata": {},
   "source": [
    "### Missed Appointments\n",
    "This dependent variable data. We will be analyzing the independent variables with the dependent variable."
   ]
  },
  {
   "cell_type": "code",
   "execution_count": 162,
   "metadata": {},
   "outputs": [
    {
     "data": {
      "image/png": "[encoded data removed]",
      "text/plain": [
       "<Figure size 360x360 with 1 Axes>"
      ]
     },
     "metadata": {},
     "output_type": "display_data"
    },
    {
     "name": "stdout",
     "output_type": "stream",
     "text": [
      "Appointments Missed: 20.26% or 21680 events\n",
      "Out of 106987 appointments\n"
     ]
    }
   ],
   "source": [
    "import matplotlib.ticker as mtick\n",
    "\n",
    "# Total appointments\n",
    "appointments_counts = edf.missed_appointment.count()\n",
    "\n",
    "# DF just for missed_appointment = 1, we will use this throughout the rest of the analysis\n",
    "ma_df = edf.query('missed_appointment == 1')\n",
    "\n",
    "# Set plot details for missed appointments\n",
    "missed = sns.catplot(x=\"missed_appointment\", kind='count', data=edf, orient=\"h\")\n",
    "missed.set_xticklabels([\"Kept\", \"Missed\"])\n",
    "plt.title('Missed VS Kept')\n",
    "plt.ylabel('Appointments')\n",
    "plt.xlabel('Missed')\n",
    "plt.show()\n",
    "\n",
    "# General outputs\n",
    "missed_appointment_counts = edf.missed_appointment.value_counts()\n",
    "ma_missed = missed_appointment_counts[1]\n",
    "ma_kept = missed_appointment_counts[0]\n",
    "missed_ratio = round(((ma_missed / appointments_counts) * 100), 2)\n",
    "\n",
    "print('Appointments Missed: {}% or {} events'.format(missed_ratio, ma_missed))\n",
    "print('Out of {} appointments'.format(appointments_counts))"
   ]
  },
  {
   "cell_type": "markdown",
   "metadata": {},
   "source": [
    "#### Since this is our dependent variable, let's output additional information about the dataset "
   ]
  },
  {
   "cell_type": "code",
   "execution_count": 163,
   "metadata": {},
   "outputs": [
    {
     "data": {
      "text/html": [
       "<div>\n",
       "<style scoped>\n",
       "    .dataframe tbody tr th:only-of-type {\n",
       "        vertical-align: middle;\n",
       "    }\n",
       "\n",
       "    .dataframe tbody tr th {\n",
       "        vertical-align: top;\n",
       "    }\n",
       "\n",
       "    .dataframe thead th {\n",
       "        text-align: right;\n",
       "    }\n",
       "</style>\n",
       "<table border=\"1\" class=\"dataframe\">\n",
       "  <thead>\n",
       "    <tr style=\"text-align: right;\">\n",
       "      <th></th>\n",
       "      <th>missed_appointment</th>\n",
       "      <th>gender</th>\n",
       "      <th>age</th>\n",
       "      <th>repeat_patient</th>\n",
       "      <th>healthy_patient</th>\n",
       "      <th>neighborhood</th>\n",
       "      <th>day_of_week</th>\n",
       "      <th>time_delta_days</th>\n",
       "    </tr>\n",
       "  </thead>\n",
       "  <tbody>\n",
       "    <tr>\n",
       "      <th>6</th>\n",
       "      <td>1</td>\n",
       "      <td>F</td>\n",
       "      <td>23</td>\n",
       "      <td>0</td>\n",
       "      <td>1</td>\n",
       "      <td>GOIABEIRAS</td>\n",
       "      <td>Friday</td>\n",
       "      <td>1.37</td>\n",
       "    </tr>\n",
       "    <tr>\n",
       "      <th>7</th>\n",
       "      <td>1</td>\n",
       "      <td>F</td>\n",
       "      <td>39</td>\n",
       "      <td>1</td>\n",
       "      <td>1</td>\n",
       "      <td>GOIABEIRAS</td>\n",
       "      <td>Friday</td>\n",
       "      <td>1.35</td>\n",
       "    </tr>\n",
       "    <tr>\n",
       "      <th>11</th>\n",
       "      <td>1</td>\n",
       "      <td>M</td>\n",
       "      <td>29</td>\n",
       "      <td>0</td>\n",
       "      <td>1</td>\n",
       "      <td>NOVA PALESTINA</td>\n",
       "      <td>Friday</td>\n",
       "      <td>2.64</td>\n",
       "    </tr>\n",
       "    <tr>\n",
       "      <th>17</th>\n",
       "      <td>1</td>\n",
       "      <td>F</td>\n",
       "      <td>40</td>\n",
       "      <td>0</td>\n",
       "      <td>1</td>\n",
       "      <td>CONQUISTA</td>\n",
       "      <td>Friday</td>\n",
       "      <td>0.60</td>\n",
       "    </tr>\n",
       "    <tr>\n",
       "      <th>20</th>\n",
       "      <td>1</td>\n",
       "      <td>F</td>\n",
       "      <td>30</td>\n",
       "      <td>1</td>\n",
       "      <td>1</td>\n",
       "      <td>NOVA PALESTINA</td>\n",
       "      <td>Friday</td>\n",
       "      <td>1.67</td>\n",
       "    </tr>\n",
       "  </tbody>\n",
       "</table>\n",
       "</div>"
      ],
      "text/plain": [
       "    missed_appointment gender  age  repeat_patient  healthy_patient  \\\n",
       "6                    1      F   23               0                1   \n",
       "7                    1      F   39               1                1   \n",
       "11                   1      M   29               0                1   \n",
       "17                   1      F   40               0                1   \n",
       "20                   1      F   30               1                1   \n",
       "\n",
       "      neighborhood day_of_week  time_delta_days  \n",
       "6       GOIABEIRAS      Friday             1.37  \n",
       "7       GOIABEIRAS      Friday             1.35  \n",
       "11  NOVA PALESTINA      Friday             2.64  \n",
       "17       CONQUISTA      Friday             0.60  \n",
       "20  NOVA PALESTINA      Friday             1.67  "
      ]
     },
     "execution_count": 163,
     "metadata": {},
     "output_type": "execute_result"
    }
   ],
   "source": [
    "ma_df.head()"
   ]
  },
  {
   "cell_type": "code",
   "execution_count": 164,
   "metadata": {},
   "outputs": [
    {
     "data": {
      "text/html": [
       "<div>\n",
       "<style scoped>\n",
       "    .dataframe tbody tr th:only-of-type {\n",
       "        vertical-align: middle;\n",
       "    }\n",
       "\n",
       "    .dataframe tbody tr th {\n",
       "        vertical-align: top;\n",
       "    }\n",
       "\n",
       "    .dataframe thead th {\n",
       "        text-align: right;\n",
       "    }\n",
       "</style>\n",
       "<table border=\"1\" class=\"dataframe\">\n",
       "  <thead>\n",
       "    <tr style=\"text-align: right;\">\n",
       "      <th></th>\n",
       "      <th>missed_appointment</th>\n",
       "      <th>age</th>\n",
       "      <th>repeat_patient</th>\n",
       "      <th>healthy_patient</th>\n",
       "      <th>time_delta_days</th>\n",
       "    </tr>\n",
       "  </thead>\n",
       "  <tbody>\n",
       "    <tr>\n",
       "      <th>count</th>\n",
       "      <td>21680.0</td>\n",
       "      <td>21680.000000</td>\n",
       "      <td>21680.000000</td>\n",
       "      <td>21680.000000</td>\n",
       "      <td>21680.000000</td>\n",
       "    </tr>\n",
       "    <tr>\n",
       "      <th>mean</th>\n",
       "      <td>1.0</td>\n",
       "      <td>35.329151</td>\n",
       "      <td>0.681596</td>\n",
       "      <td>0.793312</td>\n",
       "      <td>15.377518</td>\n",
       "    </tr>\n",
       "    <tr>\n",
       "      <th>std</th>\n",
       "      <td>0.0</td>\n",
       "      <td>21.470631</td>\n",
       "      <td>0.465868</td>\n",
       "      <td>0.404939</td>\n",
       "      <td>16.541870</td>\n",
       "    </tr>\n",
       "    <tr>\n",
       "      <th>min</th>\n",
       "      <td>1.0</td>\n",
       "      <td>1.000000</td>\n",
       "      <td>0.000000</td>\n",
       "      <td>0.000000</td>\n",
       "      <td>0.140000</td>\n",
       "    </tr>\n",
       "    <tr>\n",
       "      <th>25%</th>\n",
       "      <td>1.0</td>\n",
       "      <td>18.000000</td>\n",
       "      <td>0.000000</td>\n",
       "      <td>1.000000</td>\n",
       "      <td>3.440000</td>\n",
       "    </tr>\n",
       "    <tr>\n",
       "      <th>50%</th>\n",
       "      <td>1.0</td>\n",
       "      <td>33.000000</td>\n",
       "      <td>1.000000</td>\n",
       "      <td>1.000000</td>\n",
       "      <td>9.940000</td>\n",
       "    </tr>\n",
       "    <tr>\n",
       "      <th>75%</th>\n",
       "      <td>1.0</td>\n",
       "      <td>52.000000</td>\n",
       "      <td>1.000000</td>\n",
       "      <td>1.000000</td>\n",
       "      <td>22.630000</td>\n",
       "    </tr>\n",
       "    <tr>\n",
       "      <th>max</th>\n",
       "      <td>1.0</td>\n",
       "      <td>115.000000</td>\n",
       "      <td>1.000000</td>\n",
       "      <td>1.000000</td>\n",
       "      <td>178.550000</td>\n",
       "    </tr>\n",
       "  </tbody>\n",
       "</table>\n",
       "</div>"
      ],
      "text/plain": [
       "       missed_appointment           age  repeat_patient  healthy_patient  \\\n",
       "count             21680.0  21680.000000    21680.000000     21680.000000   \n",
       "mean                  1.0     35.329151        0.681596         0.793312   \n",
       "std                   0.0     21.470631        0.465868         0.404939   \n",
       "min                   1.0      1.000000        0.000000         0.000000   \n",
       "25%                   1.0     18.000000        0.000000         1.000000   \n",
       "50%                   1.0     33.000000        1.000000         1.000000   \n",
       "75%                   1.0     52.000000        1.000000         1.000000   \n",
       "max                   1.0    115.000000        1.000000         1.000000   \n",
       "\n",
       "       time_delta_days  \n",
       "count     21680.000000  \n",
       "mean         15.377518  \n",
       "std          16.541870  \n",
       "min           0.140000  \n",
       "25%           3.440000  \n",
       "50%           9.940000  \n",
       "75%          22.630000  \n",
       "max         178.550000  "
      ]
     },
     "execution_count": 164,
     "metadata": {},
     "output_type": "execute_result"
    }
   ],
   "source": [
    "ma_df.describe()"
   ]
  },
  {
   "cell_type": "code",
   "execution_count": 165,
   "metadata": {},
   "outputs": [
    {
     "data": {
      "image/png": "[encoded data removed]",
      "text/plain": [
       "<Figure size 720x720 with 6 Axes>"
      ]
     },
     "metadata": {},
     "output_type": "display_data"
    }
   ],
   "source": [
    "ma_df.hist();"
   ]
  },
  {
   "cell_type": "markdown",
   "metadata": {},
   "source": [
    "### Question 1: Which gender missed appointments more frequently?"
   ]
  },
  {
   "cell_type": "code",
   "execution_count": 166,
   "metadata": {},
   "outputs": [
    {
     "data": {
      "image/png": "[encoded data removed]",
      "text/plain": [
       "<Figure size 360x360 with 1 Axes>"
      ]
     },
     "metadata": {},
     "output_type": "display_data"
    },
    {
     "data": {
      "image/png": "[encoded data removed]",
      "text/plain": [
       "<Figure size 360x360 with 1 Axes>"
      ]
     },
     "metadata": {},
     "output_type": "display_data"
    }
   ],
   "source": [
    "# Create DF for each genders to graph gender vs appointments kept / missed\n",
    "\n",
    "## Male\n",
    "male_df = edf.query('gender == \"M\"')\n",
    "male_appointments = sns.catplot(x=\"missed_appointment\", kind='count', data=male_df, orient=\"h\")\n",
    "male_appointments.set_xticklabels([\"False\", \"True\"])\n",
    "plt.title('Missed VS Kept')\n",
    "plt.ylabel('Male Appointments')\n",
    "plt.xlabel('Missed Appointment?')\n",
    "plt.show()\n",
    "\n",
    "## Female\n",
    "female_df = edf.query('gender == \"F\"')\n",
    "female_appointments = sns.catplot(x=\"missed_appointment\", kind='count', data=female_df, orient=\"h\")\n",
    "female_appointments.set_xticklabels([\"False\", \"True\"])\n",
    "plt.title('Missed VS Kept')\n",
    "plt.ylabel('Female Appointments')\n",
    "plt.xlabel('Missed Appointment?')\n",
    "plt.show()"
   ]
  },
  {
   "cell_type": "markdown",
   "metadata": {},
   "source": [
    "As we can see, it is difficult to tell ***visually***, who missed more appointments. To be able to answer this question completely, we need to gather a few more details.\n",
    "\n",
    "1. How many appointments for women\n",
    "2. How many appointment for men\n",
    "3. How many missed appointments for women\n",
    "4. How many missed appointments for man"
   ]
  },
  {
   "cell_type": "code",
   "execution_count": 167,
   "metadata": {},
   "outputs": [
    {
     "data": {
      "image/png": "[encoded data removed]",
      "text/plain": [
       "<Figure size 720x720 with 1 Axes>"
      ]
     },
     "metadata": {},
     "output_type": "display_data"
    },
    {
     "name": "stdout",
     "output_type": "stream",
     "text": [
      "Females missed 20.36% of their appointments and males missed 20.08% of their appointments\n"
     ]
    }
   ],
   "source": [
    "# Create female related stats\n",
    "female_missed = ma_df.gender.value_counts()['F']\n",
    "female_total = edf.gender.value_counts()['F']\n",
    "female_missed_percentage = round(((female_missed / female_total) * 100), 2)\n",
    "\n",
    "# Create male related stats\n",
    "male_missed = ma_df.gender.value_counts()['M']\n",
    "male_total = edf.gender.value_counts()['M']\n",
    "male_missed_percentage = round(((male_missed / male_total) * 100), 2)\n",
    "\n",
    "def appender(label, counts):\n",
    "    c = counts.astype('int64')\n",
    "    for x in range(c):\n",
    "        gender_data.append(label)\n",
    "\n",
    "# Create gender data array\n",
    "gender_data = []\n",
    "appender('Male', (male_missed_percentage * 1000))\n",
    "appender('Female', (female_missed_percentage * 1000))\n",
    "\n",
    "# Create dataframe for male / female missed appointments comparison, with gender data array\n",
    "datas = {'gender': gender_data}\n",
    "gender_comparison_df = pd.DataFrame(data=datas).gender.value_counts().reset_index()\n",
    "gender_comparison_df.columns = ['gender', 'counts']\n",
    "gender_comparison_df.set_index('gender')\n",
    "\n",
    "# Plot data from gender comparison df\n",
    "plot_comparison = sns.barplot(x='gender', y='counts', data=gender_comparison_df);\n",
    "plot_comparison.set_xticklabels([\"Female\", \"Male\"])\n",
    "\n",
    "plt.title('Gender Comparison')\n",
    "plt.ylabel('Missed Appointments Percentage')\n",
    "plt.xlabel('Gender')\n",
    "\n",
    "## Convert to percentages.\n",
    "locs=[0,2100,4200,6300,8400,10500,12600,14700,16800,18900,21000]\n",
    "lbls=['0','10','20','30','40','50','60','70','80','90','100']\n",
    "plt.yticks(locs, lbls)\n",
    "plt.show()\n",
    "\n",
    "# Output the values from the graph\n",
    "print('Females missed {}% of their appointments and males missed {}% of their appointments'.format(female_missed_percentage, male_missed_percentage))"
   ]
  },
  {
   "cell_type": "markdown",
   "metadata": {},
   "source": [
    "##### This plot is a little easier to see that Females missed more appointment than Males, only by a very small margin."
   ]
  },
  {
   "cell_type": "markdown",
   "metadata": {},
   "source": [
    "### Question 2: What ages miss appointments more?"
   ]
  },
  {
   "cell_type": "code",
   "execution_count": 168,
   "metadata": {},
   "outputs": [
    {
     "data": {
      "image/png": "[encoded data removed]",
      "text/plain": [
       "<Figure size 720x720 with 1 Axes>"
      ]
     },
     "metadata": {},
     "output_type": "display_data"
    },
    {
     "data": {
      "text/plain": [
       "count    21680.000000\n",
       "mean        35.329151\n",
       "std         21.470631\n",
       "min          1.000000\n",
       "25%         18.000000\n",
       "50%         33.000000\n",
       "75%         52.000000\n",
       "max        115.000000\n",
       "Name: age, dtype: float64"
      ]
     },
     "execution_count": 168,
     "metadata": {},
     "output_type": "execute_result"
    }
   ],
   "source": [
    "# Create the age_df dataframe\n",
    "age_df = edf.query('missed_appointment == 1')['age']\n",
    "\n",
    "# Create the age df table\n",
    "age = pd.DataFrame(age_df.value_counts()).reset_index()\n",
    "age.columns = ['age', 'counts']\n",
    "age.set_index('age')\n",
    "\n",
    "# Plot the history of missed appointments vs age.\n",
    "ax = sns.barplot(x='age', y='counts', data=age);\n",
    "ax.set(xlabel='Age', ylabel='Missed Appointments')\n",
    "ax.set_xticklabels(ax.get_xticklabels(), rotation=45)\n",
    "plt.title('Age Distribution')\n",
    "\n",
    "## Convert to percentages.\n",
    "locs=[0,10,20,30,40,50,60,70,80,90,100]\n",
    "lbls=['0','10','20','30','40','50','60','70','80','90','100']\n",
    "plt.xticks(locs, lbls)\n",
    "\n",
    "plt.show()\n",
    "\n",
    "age_df.describe()"
   ]
  },
  {
   "cell_type": "markdown",
   "metadata": {},
   "source": [
    "#### Older patients miss less appointments, which surprises me. Children with less than 1 year have the highest misses. The graph shows less than age < 20 miss appointments more often. The .describe() output supports the findings as well. "
   ]
  },
  {
   "cell_type": "markdown",
   "metadata": {},
   "source": [
    "### Question 3: Are patients who visit multiple times a year more likely to miss appointments more often?"
   ]
  },
  {
   "cell_type": "code",
   "execution_count": 169,
   "metadata": {},
   "outputs": [
    {
     "data": {
      "image/png": "[encoded data removed]",
      "text/plain": [
       "<Figure size 720x720 with 1 Axes>"
      ]
     },
     "metadata": {},
     "output_type": "display_data"
    },
    {
     "data": {
      "text/plain": [
       "count    21680.000000\n",
       "mean         0.681596\n",
       "std          0.465868\n",
       "min          0.000000\n",
       "25%          0.000000\n",
       "50%          1.000000\n",
       "75%          1.000000\n",
       "max          1.000000\n",
       "Name: repeat_patient, dtype: float64"
      ]
     },
     "execution_count": 169,
     "metadata": {},
     "output_type": "execute_result"
    }
   ],
   "source": [
    "# Graph repeat_patient missed appointments.\n",
    "repeat_miss_df = edf.query('missed_appointment == 1')['repeat_patient']\n",
    "\n",
    "# Create the repeat missed dataframe\n",
    "repeat_miss = pd.DataFrame(repeat_miss_df.value_counts()).reset_index()\n",
    "repeat_miss.columns = ['repeat_patient', 'counts']\n",
    "repeat_miss.set_index('repeat_patient')\n",
    "\n",
    "# Prep plot\n",
    "ax = sns.barplot(x='repeat_patient', y='counts', data=repeat_miss);\n",
    "ax.set(xlabel='Repeat Patients', ylabel='Missed Appointments Percentage')\n",
    "ax.set_xticklabels(['No', 'Yes'])\n",
    "plt.title('Repeat Patients Distribution')\n",
    "\n",
    "## Convert to percentages.\n",
    "locs=[0,1600,3200,4800,6400,8000,9600,11200,12800,14400,16000]\n",
    "lbls=['0','10','20','30','40','50','60','70','80','90','100']\n",
    "plt.yticks(locs, lbls)\n",
    "\n",
    "plt.show()\n",
    "\n",
    "repeat_miss_df.describe()"
   ]
  },
  {
   "cell_type": "markdown",
   "metadata": {},
   "source": [
    "#### Yes, based off the plot, it does look like repeat patients are missing more often the non-repeat patients."
   ]
  },
  {
   "cell_type": "markdown",
   "metadata": {},
   "source": [
    "### Question 4: Do healthy patients miss appointments often? "
   ]
  },
  {
   "cell_type": "code",
   "execution_count": 170,
   "metadata": {},
   "outputs": [
    {
     "data": {
      "image/png": "[encoded data removed]",
      "text/plain": [
       "<Figure size 720x720 with 1 Axes>"
      ]
     },
     "metadata": {},
     "output_type": "display_data"
    },
    {
     "data": {
      "text/plain": [
       "count    21680.000000\n",
       "mean         0.793312\n",
       "std          0.404939\n",
       "min          0.000000\n",
       "25%          1.000000\n",
       "50%          1.000000\n",
       "75%          1.000000\n",
       "max          1.000000\n",
       "Name: healthy_patient, dtype: float64"
      ]
     },
     "execution_count": 170,
     "metadata": {},
     "output_type": "execute_result"
    }
   ],
   "source": [
    "# Graph healthy_patient missed appointments.\n",
    "\n",
    "# Create the healthy_miss dataframe.\n",
    "healthy_miss_df = edf.query('missed_appointment == 1')['healthy_patient']\n",
    "\n",
    "healthy_miss = pd.DataFrame(healthy_miss_df.value_counts()).reset_index()\n",
    "healthy_miss.columns = ['healthy_patient', 'counts']\n",
    "healthy_miss.set_index('healthy_patient')\n",
    "\n",
    "# Prep plot\n",
    "ax = sns.barplot(x='healthy_patient', y='counts', data=healthy_miss);\n",
    "ax.set(xlabel='Patients', ylabel='Missed Appointments Percentage')\n",
    "ax.set_xticklabels(['Unhealthy', 'Healthy'])\n",
    "plt.title('Healthy Patient Distribution')\n",
    "\n",
    "## Convert to percentages.\n",
    "locs=[0, 2168, 4336, 6504, 8672, 10840, 13008, 15176, 17344, 19512, 21680]\n",
    "lbls=['0','10','20','30','40','50','60','70','80','90','100']\n",
    "plt.yticks(locs, lbls)\n",
    "\n",
    "plt.show()\n",
    "\n",
    "healthy_miss_df.describe()"
   ]
  },
  {
   "cell_type": "markdown",
   "metadata": {},
   "source": [
    "##### Interestingly, healthy patients miss appointments often.\n",
    "\n",
    "##### It would be interesting to see how many of these healthy patients are also repeat patients."
   ]
  },
  {
   "cell_type": "markdown",
   "metadata": {},
   "source": [
    "### Question 5: Which top 10 locations have the most missed appointments?"
   ]
  },
  {
   "cell_type": "code",
   "execution_count": 183,
   "metadata": {},
   "outputs": [
    {
     "data": {
      "image/png": "[encoded data removed]",
      "text/plain": [
       "<Figure size 720x720 with 1 Axes>"
      ]
     },
     "metadata": {},
     "output_type": "display_data"
    },
    {
     "data": {
      "text/plain": [
       "count              21680\n",
       "unique                80\n",
       "top       JARDIM CAMBURI\n",
       "freq                1432\n",
       "Name: neighborhood, dtype: object"
      ]
     },
     "execution_count": 183,
     "metadata": {},
     "output_type": "execute_result"
    }
   ],
   "source": [
    "# Graph healthy_patient missed appointments.\n",
    "locations_df = edf.query('missed_appointment == 1')['neighborhood']\n",
    "\n",
    "# Create the locations dataframe\n",
    "locations = pd.DataFrame(locations_df.value_counts()).reset_index()\n",
    "locations.columns = ['neighborhood', 'counts']\n",
    "locations.set_index('neighborhood')\n",
    "locations.sort_values('neighborhood', ascending=False)\n",
    "locations = locations.iloc[:10, :]\n",
    "\n",
    "# Prep plot\n",
    "ax = sns.barplot(x='neighborhood', y='counts', data=locations);\n",
    "ax.set(xlabel='Neighborhoods', ylabel='Missed Appointments')\n",
    "ax.set_xticklabels(ax.get_xticklabels(), rotation=90)\n",
    "plt.title('Neighborhood Distribution')\n",
    "\n",
    "plt.show()\n",
    "\n",
    "locations_df.describe()"
   ]
  },
  {
   "cell_type": "markdown",
   "metadata": {},
   "source": [
    "### Question 6: Do specific weekdays have more missed appointments?"
   ]
  },
  {
   "cell_type": "code",
   "execution_count": 175,
   "metadata": {},
   "outputs": [
    {
     "data": {
      "image/png": "[encoded data removed]",
      "text/plain": [
       "<Figure size 720x720 with 1 Axes>"
      ]
     },
     "metadata": {},
     "output_type": "display_data"
    },
    {
     "data": {
      "text/plain": [
       "count       21680\n",
       "unique          6\n",
       "top       Tuesday\n",
       "freq         5024\n",
       "Name: day_of_week, dtype: object"
      ]
     },
     "execution_count": 175,
     "metadata": {},
     "output_type": "execute_result"
    }
   ],
   "source": [
    "# Graph healthy_patient missed appointments.\n",
    "weekdays_df = edf.query('missed_appointment == 1')['day_of_week']\n",
    "\n",
    "# Create the weekdays dataframe\n",
    "weekdays = pd.DataFrame(weekdays_df.value_counts()).reset_index()\n",
    "weekdays.columns = ['day_of_week', 'counts']\n",
    "weekdays.set_index('day_of_week')\n",
    "\n",
    "# Prep plot\n",
    "ax = sns.barplot(x='day_of_week', y='counts', data=weekdays);\n",
    "ax.set(xlabel='Day of Week', ylabel='Missed Appointments')\n",
    "ax.set_xticklabels(ax.get_xticklabels(), rotation=90)\n",
    "plt.title('Weekday Distribution')\n",
    "\n",
    "plt.show()\n",
    "\n",
    "weekdays_df.describe()"
   ]
  },
  {
   "cell_type": "markdown",
   "metadata": {},
   "source": [
    "##### Yes, apparently Tuesdays and Wednesdays have the most missed appointments."
   ]
  },
  {
   "cell_type": "markdown",
   "metadata": {},
   "source": [
    "### Question 7: Does higher time_delta_days (the number of days from the scheduling date to appointment date ) contribute to frequent missed appointments?"
   ]
  },
  {
   "cell_type": "code",
   "execution_count": 186,
   "metadata": {},
   "outputs": [
    {
     "data": {
      "image/png": "[encoded data removed]",
      "text/plain": [
       "<Figure size 720x720 with 1 Axes>"
      ]
     },
     "metadata": {},
     "output_type": "display_data"
    }
   ],
   "source": [
    "# Create time delta days dataframe\n",
    "time_delta_days_df = edf.query('missed_appointment == 1')['time_delta_days']\n",
    "\n",
    "# Plot missed appointments vs time_delta_days.\n",
    "time_delta_days = pd.DataFrame(time_delta_days_df.value_counts()).reset_index()\n",
    "time_delta_days.columns = ['time_delta_days', 'counts']\n",
    "time_delta_days.set_index('time_delta_days')\n",
    "\n",
    "\n",
    "xlocs = [0,20,40,60,80,100,120,140,160,180,200]\n",
    "xlbls = ['0','20','40','60','80','100','120','140','160','180','200']\n",
    "plt.xticks(xlocs, xlbls)\n",
    "\n",
    "ylocs = [0, 1500, 3000, 4500, 6000, 7500, 9000, 10500, 12000, 13500, 15000]\n",
    "ylbls = ['0','1500','300','4500','6000','7500','9000','10500','12000','13500','15000']\n",
    "plt.yticks(ylocs, ylbls)\n",
    "\n",
    "\n",
    "time_delta_days_df.hist()\n",
    "\n",
    "plt.title('Wait Days Distribution')\n",
    "plt.ylabel('Missed Appointments')\n",
    "plt.xlabel('Days')\n",
    "\n",
    "plt.xlim([0,120])\n",
    "\n",
    "plt.show()"
   ]
  },
  {
   "cell_type": "markdown",
   "metadata": {},
   "source": [
    "##### Surprisingly, the longer wait days missed less appointment. The wait days with less than equal to 20 days missed the most appointments."
   ]
  },
  {
   "cell_type": "markdown",
   "metadata": {},
   "source": [
    "<a id='limitations'></a>\n",
    "## Limitations\n",
    "\n",
    "If the goal is to understand the causes of missed appointments for specific features (the 7 in this report), then additional data and processing is needed.\n",
    "\n",
    "For example, at first, the dataset (Gender vs Missed Appointments) seems to declare that Females miss appointments by a gross margin. To answer the question correctly though, you have to compare Female misses to only the Female count, the same for Males. Once you do that comparison (which require more data manipulation, you are able to see each gender miss appointments nearly the same frequency.\n",
    "\n",
    "In addition, one of the features (repeat_patients) illuminate that the data and assumptions are skewed due to patients having multiple repeat visits.\n",
    "\n",
    "The dataset is a small, which would lead to conclusions that might not fit the masses all across Brazil."
   ]
  },
  {
   "cell_type": "markdown",
   "metadata": {},
   "source": [
    "<a id='conclusions'></a>\n",
    "## Conclusions\n",
    "\n",
    "The questions are attempting to draw a conclusion based on the features provided, would require additional data or subsets of data that allows plotting the answers more intuitive.\n",
    "\n",
    "What we can conclude are the following:\n",
    "- Gender: Females and Males miss appointments nearly at the same percentage.\n",
    "- Age: Patients with less than 60 years of age miss more than patients older than 60.\n",
    "- Repeat Patient: Repeat patients miss appointments 50% more than non-repeat patients.\n",
    "- Healthy Patient: Healthy patients miss appointments nearly 60% more than non-healthy patients.\n",
    "- Neighborhood: There are 80 neighborhoods represented and the Jardim Camburi location has the most missed appointments.\n",
    "- Weekdays: Tuesday and Wednesday have the most missed appointments.\n",
    "- Wait Days: Patients miss appointments at a high rate in the first 20 days."
   ]
  }
 ],
 "metadata": {
  "kernelspec": {
   "display_name": "Python 3",
   "language": "python",
   "name": "python3"
  },
  "language_info": {
   "codemirror_mode": {
    "name": "ipython",
    "version": 3
   },
   "file_extension": ".py",
   "mimetype": "text/x-python",
   "name": "python",
   "nbconvert_exporter": "python",
   "pygments_lexer": "ipython3",
   "version": "3.7.1"
  }
 },
 "nbformat": 4,
 "nbformat_minor": 2
}
